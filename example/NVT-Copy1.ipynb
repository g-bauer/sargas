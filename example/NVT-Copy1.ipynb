{
 "cells": [
  {
   "cell_type": "code",
   "execution_count": 1,
   "metadata": {},
   "outputs": [],
   "source": [
    "import pandas as pd\n",
    "import numpy as np\n",
    "from sargas import *\n",
    "import matplotlib.pyplot as plt"
   ]
  },
  {
   "cell_type": "markdown",
   "metadata": {},
   "source": [
    "# NVT Simulation"
   ]
  },
  {
   "cell_type": "code",
   "execution_count": 42,
   "metadata": {},
   "outputs": [],
   "source": [
    "nparticles = 800\n",
    "\n",
    "density = 8e-1\n",
    "volume = nparticles / density\n",
    "temperature = 9e-1\n",
    "rc = 3.0\n",
    "\n",
    "potential = Potential.lennard_jones(1.0, 1.0, rc, tail_correction=True)\n",
    "configuration = Configuration.from_lattice(nparticles, density)\n",
    "system = System(configuration, potential)\n",
    "# system = System.insert_particles(nparticles, volume, temperature, 15, rc, potential, nparticles, 1000000)\n",
    "\n",
    "displace_particle = MCMove.displace_particle(0.1, 0.4, temperature)\n",
    "mc = MonteCarlo([displace_particle], [1], temperature)\n",
    "\n",
    "simulation = Simulation.monte_carlo(system, mc, 500)"
   ]
  },
  {
   "cell_type": "code",
   "execution_count": 43,
   "metadata": {},
   "outputs": [
    {
     "name": "stdout",
     "output_type": "stream",
     "text": [
      "CPU times: user 14.2 s, sys: 9.15 ms, total: 14.2 s\n",
      "Wall time: 14.1 s\n"
     ]
    }
   ],
   "source": [
    "%%time\n",
    "simulation.run(nparticles * 2000)"
   ]
  },
  {
   "cell_type": "code",
   "execution_count": 44,
   "metadata": {},
   "outputs": [
    {
     "data": {
      "text/plain": [
       "-4365.1822729847045"
      ]
     },
     "execution_count": 44,
     "metadata": {},
     "output_type": "execute_result"
    }
   ],
   "source": [
    "system.energy"
   ]
  },
  {
   "cell_type": "code",
   "execution_count": 45,
   "metadata": {},
   "outputs": [],
   "source": [
    "simulation.deactivate_propagator_updates()\n",
    "props = Observer.properties(1000)\n",
    "simulation.add_observer(props)\n",
    "widom = Observer.widom_insertion(100)\n",
    "simulation.add_observer(widom)"
   ]
  },
  {
   "cell_type": "code",
   "execution_count": 46,
   "metadata": {},
   "outputs": [
    {
     "name": "stdout",
     "output_type": "stream",
     "text": [
      "CPU times: user 15.5 s, sys: 9.49 ms, total: 15.5 s\n",
      "Wall time: 15.5 s\n"
     ]
    }
   ],
   "source": [
    "%%time\n",
    "simulation.run(nparticles * 2000)"
   ]
  },
  {
   "cell_type": "code",
   "execution_count": 13,
   "metadata": {},
   "outputs": [],
   "source": [
    "properties = pd.DataFrame(props.data)"
   ]
  },
  {
   "cell_type": "code",
   "execution_count": 14,
   "metadata": {},
   "outputs": [
    {
     "name": "stdout",
     "output_type": "stream",
     "text": [
      "u = -5.98883e+00 +- 1.06150e-03\n"
     ]
    }
   ],
   "source": [
    "print(\"u = {:.5e} +- {:.5e}\".format(properties.energy.mean() / system.nparticles, properties.energy.sem() / system.nparticles))"
   ]
  },
  {
   "cell_type": "code",
   "execution_count": 15,
   "metadata": {},
   "outputs": [
    {
     "name": "stdout",
     "output_type": "stream",
     "text": [
      "p = 1.79720e+00 +- 5.44438e-03\n"
     ]
    }
   ],
   "source": [
    "print(\"p = {:.5e} +- {:.5e}\".format(properties.pressure.mean(), properties.pressure.sem()))"
   ]
  },
  {
   "cell_type": "code",
   "execution_count": 16,
   "metadata": {},
   "outputs": [
    {
     "data": {
      "text/plain": [
       "[<matplotlib.lines.Line2D at 0x7f1e47030ee0>]"
      ]
     },
     "execution_count": 16,
     "metadata": {},
     "output_type": "execute_result"
    },
    {
     "data": {
      "image/png": "[encoded data removed]",
      "text/plain": [
       "<Figure size 432x288 with 1 Axes>"
      ]
     },
     "metadata": {
      "needs_background": "light"
     },
     "output_type": "display_data"
    }
   ],
   "source": [
    "plt.plot(properties.energy)"
   ]
  },
  {
   "cell_type": "markdown",
   "metadata": {},
   "source": [
    "# NPT"
   ]
  },
  {
   "cell_type": "code",
   "execution_count": 38,
   "metadata": {},
   "outputs": [],
   "source": [
    "nparticles = 500\n",
    "\n",
    "density = 9e-1\n",
    "volume = nparticles / density\n",
    "temperature = 9e-1\n",
    "pressure = 5\n",
    "rc = 3.0\n",
    "\n",
    "potential = Potential.lennard_jones(1.0, 1.0, rc, tail_correction=True)\n",
    "configuration = Configuration.from_lattice(nparticles, density)\n",
    "system = System(configuration, potential)\n",
    "\n",
    "displace_particle = MCMove.displace_particle(0.1, 0.4, temperature)\n",
    "change_volume = MCMove.change_volume(1.0, 0.4, temperature, pressure)\n",
    "mc = MonteCarlo([displace_particle, change_volume], [nparticles, 1], temperature)\n",
    "\n",
    "simulation = Simulation.monte_carlo(system, mc, 500)"
   ]
  },
  {
   "cell_type": "code",
   "execution_count": 39,
   "metadata": {},
   "outputs": [
    {
     "name": "stdout",
     "output_type": "stream",
     "text": [
      "CPU times: user 6.96 s, sys: 19.5 ms, total: 6.98 s\n",
      "Wall time: 6.96 s\n"
     ]
    }
   ],
   "source": [
    "%%time\n",
    "simulation.run(1_000_000)"
   ]
  },
  {
   "cell_type": "code",
   "execution_count": 40,
   "metadata": {},
   "outputs": [],
   "source": [
    "#simulation.deactivate_propagator_updates()\n",
    "props = Observer.properties(1000)\n",
    "simulation.add_observer(props)\n",
    "widom = Observer.widom_insertion(100)\n",
    "simulation.add_observer(widom)"
   ]
  },
  {
   "cell_type": "code",
   "execution_count": 41,
   "metadata": {},
   "outputs": [],
   "source": [
    "simulation.run(1_000_000)"
   ]
  },
  {
   "cell_type": "code",
   "execution_count": 32,
   "metadata": {},
   "outputs": [],
   "source": [
    "properties = pd.DataFrame(props.data)"
   ]
  },
  {
   "cell_type": "code",
   "execution_count": 33,
   "metadata": {},
   "outputs": [
    {
     "name": "stdout",
     "output_type": "stream",
     "text": [
      "u = -1.60264e+00 +- 1.96203e-03\n"
     ]
    }
   ],
   "source": [
    "print(\"u = {:.5e} +- {:.5e}\".format(properties.energy.mean() / system.nparticles, properties.energy.sem() / system.nparticles))"
   ]
  },
  {
   "cell_type": "code",
   "execution_count": 34,
   "metadata": {},
   "outputs": [
    {
     "name": "stdout",
     "output_type": "stream",
     "text": [
      "p = -5.34985e-02 +- 4.15512e-04\n"
     ]
    }
   ],
   "source": [
    "print(\"p = {:.5e} +- {:.5e}\".format(properties.pressure.mean(), properties.pressure.sem()))"
   ]
  },
  {
   "cell_type": "code",
   "execution_count": 35,
   "metadata": {},
   "outputs": [
    {
     "name": "stdout",
     "output_type": "stream",
     "text": [
      "v = 5.72316e+03 +- 1.41653e+01\n"
     ]
    }
   ],
   "source": [
    "print(\"v = {:.5e} +- {:.5e}\".format(properties.volume.mean(), properties.volume.sem()))"
   ]
  },
  {
   "cell_type": "code",
   "execution_count": 36,
   "metadata": {},
   "outputs": [
    {
     "data": {
      "text/html": [
       "<div>\n",
       "<style scoped>\n",
       "    .dataframe tbody tr th:only-of-type {\n",
       "        vertical-align: middle;\n",
       "    }\n",
       "\n",
       "    .dataframe tbody tr th {\n",
       "        vertical-align: top;\n",
       "    }\n",
       "\n",
       "    .dataframe thead th {\n",
       "        text-align: right;\n",
       "    }\n",
       "</style>\n",
       "<table border=\"1\" class=\"dataframe\">\n",
       "  <thead>\n",
       "    <tr style=\"text-align: right;\">\n",
       "      <th></th>\n",
       "      <th>density</th>\n",
       "      <th>energy</th>\n",
       "      <th>volume</th>\n",
       "      <th>pressure</th>\n",
       "      <th>nparticles</th>\n",
       "      <th>virial</th>\n",
       "    </tr>\n",
       "  </thead>\n",
       "  <tbody>\n",
       "    <tr>\n",
       "      <th>count</th>\n",
       "      <td>1000.000000</td>\n",
       "      <td>1000.000000</td>\n",
       "      <td>1000.000000</td>\n",
       "      <td>1000.000000</td>\n",
       "      <td>1000.0</td>\n",
       "      <td>1000.000000</td>\n",
       "    </tr>\n",
       "    <tr>\n",
       "      <th>mean</th>\n",
       "      <td>0.087917</td>\n",
       "      <td>-801.318099</td>\n",
       "      <td>5723.155710</td>\n",
       "      <td>-0.053499</td>\n",
       "      <td>500.0</td>\n",
       "      <td>-828.418352</td>\n",
       "    </tr>\n",
       "    <tr>\n",
       "      <th>std</th>\n",
       "      <td>0.007086</td>\n",
       "      <td>31.022483</td>\n",
       "      <td>447.947143</td>\n",
       "      <td>0.013140</td>\n",
       "      <td>0.0</td>\n",
       "      <td>198.775479</td>\n",
       "    </tr>\n",
       "    <tr>\n",
       "      <th>min</th>\n",
       "      <td>0.077706</td>\n",
       "      <td>-887.646722</td>\n",
       "      <td>4827.430795</td>\n",
       "      <td>-0.098575</td>\n",
       "      <td>500.0</td>\n",
       "      <td>-1419.927721</td>\n",
       "    </tr>\n",
       "    <tr>\n",
       "      <th>25%</th>\n",
       "      <td>0.081657</td>\n",
       "      <td>-821.636671</td>\n",
       "      <td>5342.142573</td>\n",
       "      <td>-0.062277</td>\n",
       "      <td>500.0</td>\n",
       "      <td>-964.522938</td>\n",
       "    </tr>\n",
       "    <tr>\n",
       "      <th>50%</th>\n",
       "      <td>0.086656</td>\n",
       "      <td>-802.076881</td>\n",
       "      <td>5769.921350</td>\n",
       "      <td>-0.053182</td>\n",
       "      <td>500.0</td>\n",
       "      <td>-831.286815</td>\n",
       "    </tr>\n",
       "    <tr>\n",
       "      <th>75%</th>\n",
       "      <td>0.093595</td>\n",
       "      <td>-781.577148</td>\n",
       "      <td>6123.170150</td>\n",
       "      <td>-0.044318</td>\n",
       "      <td>500.0</td>\n",
       "      <td>-695.301314</td>\n",
       "    </tr>\n",
       "    <tr>\n",
       "      <th>max</th>\n",
       "      <td>0.103575</td>\n",
       "      <td>-687.184250</td>\n",
       "      <td>6434.471916</td>\n",
       "      <td>-0.013131</td>\n",
       "      <td>500.0</td>\n",
       "      <td>-159.456139</td>\n",
       "    </tr>\n",
       "  </tbody>\n",
       "</table>\n",
       "</div>"
      ],
      "text/plain": [
       "           density       energy       volume     pressure  nparticles  \\\n",
       "count  1000.000000  1000.000000  1000.000000  1000.000000      1000.0   \n",
       "mean      0.087917  -801.318099  5723.155710    -0.053499       500.0   \n",
       "std       0.007086    31.022483   447.947143     0.013140         0.0   \n",
       "min       0.077706  -887.646722  4827.430795    -0.098575       500.0   \n",
       "25%       0.081657  -821.636671  5342.142573    -0.062277       500.0   \n",
       "50%       0.086656  -802.076881  5769.921350    -0.053182       500.0   \n",
       "75%       0.093595  -781.577148  6123.170150    -0.044318       500.0   \n",
       "max       0.103575  -687.184250  6434.471916    -0.013131       500.0   \n",
       "\n",
       "            virial  \n",
       "count  1000.000000  \n",
       "mean   -828.418352  \n",
       "std     198.775479  \n",
       "min   -1419.927721  \n",
       "25%    -964.522938  \n",
       "50%    -831.286815  \n",
       "75%    -695.301314  \n",
       "max    -159.456139  "
      ]
     },
     "execution_count": 36,
     "metadata": {},
     "output_type": "execute_result"
    }
   ],
   "source": [
    "properties.describe()"
   ]
  },
  {
   "cell_type": "code",
   "execution_count": 37,
   "metadata": {},
   "outputs": [
    {
     "data": {
      "text/plain": [
       "[<matplotlib.lines.Line2D at 0x7f1e45b92940>]"
      ]
     },
     "execution_count": 37,
     "metadata": {},
     "output_type": "execute_result"
    },
    {
     "data": {
      "image/png": "[encoded data removed]",
      "text/plain": [
       "<Figure size 432x288 with 1 Axes>"
      ]
     },
     "metadata": {
      "needs_background": "light"
     },
     "output_type": "display_data"
    }
   ],
   "source": [
    "plt.plot(properties.volume)"
   ]
  },
  {
   "cell_type": "markdown",
   "metadata": {},
   "source": [
    "# $\\mu$VT Simulation"
   ]
  },
  {
   "cell_type": "code",
   "execution_count": 18,
   "metadata": {},
   "outputs": [],
   "source": [
    "density = 0.5\n",
    "nparticles = 500\n",
    "volume = nparticles / density\n",
    "temperature = 1.0\n",
    "\n",
    "potential = Potential.lennard_jones(1.0, 1.0, tail_correction=True)\n",
    "system = System.insert_particles(nparticles, volume, temperature, chemical_potential-2, 3.0, potential, nparticles + 100, 1000000)\n",
    "\n",
    "displace_particle = MCMove.displace_particle(0.1, 0.4, nparticles)\n",
    "insert_delete_particle = MCMove.insert_delete_particle(chemical_potential)\n",
    "mc = MonteCarlo([displace_particle, insert_delete_particle], [3, 1], temperature)\n",
    "\n",
    "simulation = Simulation.monte_carlo(system, mc, 500)"
   ]
  },
  {
   "cell_type": "code",
   "execution_count": 19,
   "metadata": {},
   "outputs": [
    {
     "name": "stdout",
     "output_type": "stream",
     "text": [
      "Equilibration\n",
      "Production\n",
      "CPU times: user 348 ms, sys: 3.96 ms, total: 352 ms\n",
      "Wall time: 351 ms\n"
     ]
    }
   ],
   "source": [
    "%%time\n",
    "print(\"Equilibration\")\n",
    "simulation.run(nparticles * 1000)\n",
    "\n",
    "simulation.deactivate_propagator_updates()\n",
    "props = Observer.properties(100)\n",
    "simulation.add_observer(props)\n",
    "\n",
    "print(\"Production\")\n",
    "simulation.run(nparticles * 5000)"
   ]
  },
  {
   "cell_type": "code",
   "execution_count": 20,
   "metadata": {},
   "outputs": [
    {
     "data": {
      "text/plain": [
       "[<matplotlib.lines.Line2D at 0x7fcc13f9c670>]"
      ]
     },
     "execution_count": 20,
     "metadata": {},
     "output_type": "execute_result"
    },
    {
     "data": {
      "image/png": "[encoded data removed]",
      "text/plain": [
       "<Figure size 432x288 with 1 Axes>"
      ]
     },
     "metadata": {
      "needs_background": "light"
     },
     "output_type": "display_data"
    }
   ],
   "source": [
    "properties = pd.DataFrame(props.data)\n",
    "plt.plot(properties.nparticles)"
   ]
  },
  {
   "cell_type": "code",
   "execution_count": 33,
   "metadata": {},
   "outputs": [
    {
     "data": {
      "text/plain": [
       "0        2.0\n",
       "1        1.0\n",
       "2        3.0\n",
       "3        4.0\n",
       "4        1.0\n",
       "        ... \n",
       "24995    1.0\n",
       "24996    2.0\n",
       "24997    0.0\n",
       "24998    2.0\n",
       "24999    1.0\n",
       "Name: nparticles, Length: 25000, dtype: float64"
      ]
     },
     "execution_count": 33,
     "metadata": {},
     "output_type": "execute_result"
    }
   ],
   "source": [
    "properties.nparticles"
   ]
  },
  {
   "cell_type": "code",
   "execution_count": null,
   "metadata": {},
   "outputs": [],
   "source": []
  }
 ],
 "metadata": {
  "kernelspec": {
   "display_name": "sargas",
   "language": "python",
   "name": "sargas"
  },
  "language_info": {
   "codemirror_mode": {
    "name": "ipython",
    "version": 3
   },
   "file_extension": ".py",
   "mimetype": "text/x-python",
   "name": "python",
   "nbconvert_exporter": "python",
   "pygments_lexer": "ipython3",
   "version": "3.8.6"
  }
 },
 "nbformat": 4,
 "nbformat_minor": 4
}
