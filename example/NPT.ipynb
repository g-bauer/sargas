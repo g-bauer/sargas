{
 "cells": [
  {
   "cell_type": "code",
   "execution_count": 1,
   "metadata": {},
   "outputs": [],
   "source": [
    "import pandas as pd\n",
    "import numpy as np\n",
    "from sargas import *\n",
    "import matplotlib.pyplot as plt\n",
    "from multiprocessing import Pool\n",
    "%matplotlib inline"
   ]
  },
  {
   "cell_type": "markdown",
   "metadata": {},
   "source": [
    "# NPT"
   ]
  },
  {
   "cell_type": "code",
   "execution_count": 20,
   "metadata": {},
   "outputs": [],
   "source": [
    "# Helper functions to build and run simulations\n",
    "\n",
    "def build_npt(n, p, t, initial_density, rc, tail_correction):\n",
    "    potential = Potential.lennard_jones(1.0, 1.0, rc, tail_correction=True)\n",
    "    configuration = Configuration.from_lattice(n, initial_density)\n",
    "    system = System(configuration, potential)\n",
    "    displace_particle = MCMove.displace_particle(0.1, 0.4, t)\n",
    "    change_volume = MCMove.change_volume(0.025, 0.5, p, t)\n",
    "    \n",
    "    mc = MonteCarlo([displace_particle, change_volume], [n, 1], t)\n",
    "    simulation = Simulation.monte_carlo(system, mc, n)\n",
    "    return simulation, system\n",
    "\n",
    "def run_simulation(simulation, equilibration, production):\n",
    "    simulation.run(equilibration)\n",
    "    simulation.deactivate_propagator_updates()\n",
    "    \n",
    "    properties = Observer.properties(1000)\n",
    "    simulation.add_observer(properties)\n",
    "    \n",
    "    simulation.run(production)\n",
    "    return pd.DataFrame(properties.data)\n",
    "\n",
    "def run_tp(t, p):\n",
    "    nparticles = 500\n",
    "    initial_density = 8e-1\n",
    "    rc = 3.0\n",
    "    tail_correction = True\n",
    "    sim, sys = build_npt(500, p, t, initial_density, rc, True)\n",
    "    properties = run_simulation(sim, 500*5000, 500*50000)\n",
    "    return t, p, properties"
   ]
  },
  {
   "cell_type": "code",
   "execution_count": null,
   "metadata": {},
   "outputs": [],
   "source": [
    "%%time\n",
    "states = [\n",
    "    (9e-1, 8e-1),\n",
    "    (9e-1, 2.0)\n",
    "]\n",
    "\n",
    "with Pool() as pool:\n",
    "    res = pool.starmap(run_tp, states)"
   ]
  },
  {
   "cell_type": "code",
   "execution_count": 29,
   "metadata": {},
   "outputs": [
    {
     "data": {
      "text/plain": [
       "(0.8942969660191653, 0.8964075831513043)"
      ]
     },
     "execution_count": 29,
     "metadata": {},
     "output_type": "execute_result"
    }
   ],
   "source": [
    "res[0].density.mean(), res[1].density.mean()"
   ]
  },
  {
   "cell_type": "code",
   "execution_count": 33,
   "metadata": {},
   "outputs": [],
   "source": [
    "t1 = 9e-1\n",
    "p1 = 8e-1\n",
    "props1 = res[0]\n",
    "\n",
    "t2 = 9e-1\n",
    "p2 = 8.5e-1\n",
    "props2 = res[1]"
   ]
  },
  {
   "cell_type": "markdown",
   "metadata": {},
   "source": [
    "# Physical Validation"
   ]
  },
  {
   "cell_type": "code",
   "execution_count": 34,
   "metadata": {},
   "outputs": [],
   "source": [
    "import physical_validation as pv"
   ]
  },
  {
   "cell_type": "code",
   "execution_count": 42,
   "metadata": {},
   "outputs": [],
   "source": [
    "units = pv.data.UnitData(\n",
    "    kb=1.0,\n",
    "    energy_str='eps',\n",
    "    energy_conversion=1.0,\n",
    "    length_str='sigma',\n",
    "    length_conversion=1.0,\n",
    "    volume_str='sigma3',\n",
    "    volume_conversion=1.0,\n",
    "    temperature_str='T*',\n",
    "    temperature_conversion=1.0,\n",
    "    pressure_str='p*',\n",
    "    pressure_conversion=1.0,\n",
    "    time_str='t*',\n",
    "    time_conversion=1.0\n",
    ")\n",
    "\n",
    "sd1 = pv.data.SimulationData()\n",
    "sd1.system = pv.data.SystemData(\n",
    "    natoms=nparticles,\n",
    ")\n",
    "sd1.units = units\n",
    "sd1.ensemble = pv.data.EnsembleData(\n",
    "    ensemble=\"NPT\",\n",
    "    natoms=nparticles,\n",
    "    pressure=p1,\n",
    "    temperature=t1\n",
    ")\n",
    "sd1.observables = pv.data.ObservableData(\n",
    "    potential_energy=props1.energy,\n",
    "    volume=props1.volume\n",
    ")\n",
    "\n",
    "\n",
    "sd2 = pv.data.SimulationData()\n",
    "sd2.system = pv.data.SystemData(\n",
    "    natoms=nparticles,\n",
    ")\n",
    "sd2.units = units\n",
    "sd2.ensemble = pv.data.EnsembleData(\n",
    "    ensemble=\"NPT\",\n",
    "    natoms=nparticles,\n",
    "    pressure=p2,\n",
    "    temperature=t2\n",
    ")\n",
    "sd2.observables = pv.data.ObservableData(\n",
    "    potential_energy=props2.energy,\n",
    "    volume=props2.volume\n",
    ")"
   ]
  },
  {
   "cell_type": "code",
   "execution_count": 43,
   "metadata": {},
   "outputs": [
    {
     "name": "stdout",
     "output_type": "stream",
     "text": [
      "After equilibration, decorrelation and tail pruning, 1.60% (401 frames) of original Trajectory 1 remain.\n",
      "After equilibration, decorrelation and tail pruning, 1.60% (400 frames) of original Trajectory 2 remain.\n",
      "Overlap is 99.0% of trajectory 1 and 100.0% of trajectory 2.\n",
      "Rule of thumb estimates that dP = 6.8 would be optimal (currently, dP = 0.0)\n",
      "==================================================\n",
      "Maximum Likelihood Analysis (analytical error)\n",
      "==================================================\n",
      "Free energy\n",
      "    40.88528 +/- 11.25040\n",
      "Estimated slope                  |  True slope\n",
      "    -0.073210 +/- 0.020148       |  -0.003346\n",
      "    (3.47 quantiles from true slope)\n",
      "Estimated dP                     |  True dP\n",
      "    1.1    +/- 0.3               |  0.0   \n",
      "==================================================\n"
     ]
    },
    {
     "name": "stderr",
     "output_type": "stream",
     "text": [
      "/usr/ITT/bauer/PhD/Code/sargas/sargas_venv/lib/python3.8/site-packages/physical_validation/util/plot.py:147: UserWarning: Matplotlib is currently using module://matplotlib_inline.backend_inline, which is a non-GUI backend, so cannot show the figure.\n",
      "  fig.show()\n"
     ]
    },
    {
     "data": {
      "text/plain": [
       "[3.4675176280858073]"
      ]
     },
     "execution_count": 43,
     "metadata": {},
     "output_type": "execute_result"
    },
    {
     "data": {
      "image/png": "[encoded data removed]",
      "text/plain": [
       "<Figure size 432x288 with 1 Axes>"
      ]
     },
     "metadata": {
      "needs_background": "light"
     },
     "output_type": "display_data"
    }
   ],
   "source": [
    "pv.ensemble.check(\n",
    "    data_sim_one=sd1,\n",
    "    data_sim_two=sd2,\n",
    "    screen=True\n",
    ")"
   ]
  },
  {
   "cell_type": "code",
   "execution_count": 44,
   "metadata": {},
   "outputs": [
    {
     "data": {
      "text/plain": [
       "(0.85, 0.8)"
      ]
     },
     "execution_count": 44,
     "metadata": {},
     "output_type": "execute_result"
    }
   ],
   "source": [
    "p2, p1"
   ]
  },
  {
   "cell_type": "code",
   "execution_count": null,
   "metadata": {},
   "outputs": [],
   "source": []
  }
 ],
 "metadata": {
  "kernelspec": {
   "display_name": "sargas",
   "language": "python",
   "name": "sargas"
  },
  "language_info": {
   "codemirror_mode": {
    "name": "ipython",
    "version": 3
   },
   "file_extension": ".py",
   "mimetype": "text/x-python",
   "name": "python",
   "nbconvert_exporter": "python",
   "pygments_lexer": "ipython3",
   "version": "3.8.1"
  }
 },
 "nbformat": 4,
 "nbformat_minor": 4
}
