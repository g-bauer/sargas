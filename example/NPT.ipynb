{
 "cells": [
  {
   "cell_type": "code",
   "execution_count": 1,
   "metadata": {},
   "outputs": [],
   "source": [
    "import pandas as pd\n",
    "import numpy as np\n",
    "from sargas import *\n",
    "import matplotlib.pyplot as plt\n",
    "from multiprocessing import Pool\n",
    "%matplotlib inline"
   ]
  },
  {
   "cell_type": "markdown",
   "metadata": {},
   "source": [
    "# NPT"
   ]
  },
  {
   "cell_type": "code",
   "execution_count": 56,
   "metadata": {},
   "outputs": [],
   "source": [
    "# Helper functions to build and run simulations\n",
    "\n",
    "def build_npt(n, p, t, initial_density, rc, tail_correction):\n",
    "    potential = Potential.lennard_jones(1.0, 1.0, rc, tail_correction=True)\n",
    "    configuration = Configuration.from_lattice(n, initial_density)\n",
    "    system = System(configuration, potential)\n",
    "    displace_particle = MCMove.displace_particle(0.1, 0.4, t)\n",
    "    change_volume = MCMove.change_volume(0.025, 0.5, p, t)\n",
    "    \n",
    "    mc = MonteCarlo([displace_particle, change_volume], [n, 1], t)\n",
    "    simulation = Simulation.monte_carlo(system, mc, n)\n",
    "    return simulation, system\n",
    "\n",
    "def run_simulation(simulation, equilibration, production):\n",
    "    simulation.run(equilibration)\n",
    "    simulation.deactivate_propagator_updates()\n",
    "    \n",
    "    properties = Observer.properties(1000)\n",
    "    simulation.add_observer(properties)\n",
    "    \n",
    "    simulation.run(production)\n",
    "    return pd.DataFrame(properties.data)\n",
    "\n",
    "def run_tp(t, p):\n",
    "    nparticles = 500\n",
    "    initial_density = 8e-1\n",
    "    rc = 3.0\n",
    "    tail_correction = True\n",
    "    sim, sys = build_npt(500, p, t, initial_density, rc, True)\n",
    "    properties = run_simulation(sim, 500*5000, 500*50000)\n",
    "    return t, p, properties"
   ]
  },
  {
   "cell_type": "code",
   "execution_count": 71,
   "metadata": {},
   "outputs": [
    {
     "name": "stdout",
     "output_type": "stream",
     "text": [
      "CPU times: user 10.4 ms, sys: 72 ms, total: 82.4 ms\n",
      "Wall time: 5min 51s\n"
     ]
    }
   ],
   "source": [
    "%%time\n",
    "states = [\n",
    "    (8e-1, 8e-1),\n",
    "    (9e-1, 8e-1)\n",
    "]\n",
    "\n",
    "with Pool() as pool:\n",
    "    res = pool.starmap(run_tp, states)"
   ]
  },
  {
   "cell_type": "code",
   "execution_count": 49,
   "metadata": {},
   "outputs": [],
   "source": [
    "t1 = 9e-1\n",
    "p1 = 8e-1\n",
    "props1 = res[0]\n",
    "\n",
    "t2 = 9e-1\n",
    "p2 = 1.2\n",
    "props2 = res[1]"
   ]
  },
  {
   "cell_type": "code",
   "execution_count": 76,
   "metadata": {},
   "outputs": [
    {
     "data": {
      "text/plain": [
       "[<matplotlib.lines.Line2D at 0x7f39ecff73a0>]"
      ]
     },
     "execution_count": 76,
     "metadata": {},
     "output_type": "execute_result"
    },
    {
     "data": {
      "image/png": "[encoded data removed]",
      "text/plain": [
       "<Figure size 432x288 with 1 Axes>"
      ]
     },
     "metadata": {
      "needs_background": "light"
     },
     "output_type": "display_data"
    }
   ],
   "source": [
    "plt.plot(res[0][2].energy)\n",
    "plt.plot(res[1][2].energy)"
   ]
  },
  {
   "cell_type": "markdown",
   "metadata": {},
   "source": [
    "# Physical Validation"
   ]
  },
  {
   "cell_type": "code",
   "execution_count": 50,
   "metadata": {},
   "outputs": [],
   "source": [
    "import physical_validation as pv"
   ]
  },
  {
   "cell_type": "code",
   "execution_count": 60,
   "metadata": {},
   "outputs": [],
   "source": [
    "units = pv.data.UnitData(\n",
    "    kb=1.0,\n",
    "    energy_str='eps',\n",
    "    energy_conversion=1.0,\n",
    "    length_str='sigma',\n",
    "    length_conversion=1.0,\n",
    "    volume_str='sigma3',\n",
    "    volume_conversion=1.0,\n",
    "    temperature_str='T*',\n",
    "    temperature_conversion=1.0,\n",
    "    pressure_str='p*',\n",
    "    pressure_conversion=1.0,\n",
    "    time_str='t*',\n",
    "    time_conversion=1.0\n",
    ")\n",
    "\n",
    "def simulation_data(t, p, data):\n",
    "    nparticles = data.nparticles.values[0]\n",
    "    sd = pv.data.SimulationData()\n",
    "    sd.system = pv.data.SystemData(natoms=nparticles)\n",
    "    sd.units = units\n",
    "    sd.ensemble = pv.data.EnsembleData(\n",
    "        ensemble=\"NPT\",\n",
    "        natoms=nparticles,\n",
    "        pressure=p,\n",
    "        temperature=t\n",
    "    )\n",
    "    sd.observables = pv.data.ObservableData(\n",
    "        potential_energy=data.energy,\n",
    "        volume=data.volume\n",
    "    )\n",
    "    return sd"
   ]
  },
  {
   "cell_type": "code",
   "execution_count": 72,
   "metadata": {},
   "outputs": [],
   "source": [
    "sd = list(map(lambda x: simulation_data(*x), res))"
   ]
  },
  {
   "cell_type": "code",
   "execution_count": 73,
   "metadata": {},
   "outputs": [
    {
     "name": "stdout",
     "output_type": "stream",
     "text": [
      "After equilibration, decorrelation and tail pruning, 0.93% (233 frames) of original Trajectory 1 remain.\n",
      "After equilibration, decorrelation and tail pruning, 0.80% (201 frames) of original Trajectory 2 remain.\n",
      "Overlap is 3.4% of trajectory 1 and 7.0% of trajectory 2.\n",
      "Rule of thumb estimates that dT = 0.1 would be optimal (currently, dT = 0.1)\n"
     ]
    },
    {
     "ename": "InputError",
     "evalue": "(['traj1', 'traj2', 'nbins', 'cutoff'], 'Less than 3 bins were filled in the overlap region.\\nEnsure sufficient overlap between the trajectories, and consider increasing `cutoff` or `nbins` if there is sufficient overlap but unusually long tails.')",
     "output_type": "error",
     "traceback": [
      "\u001b[0;31m---------------------------------------------------------------------------\u001b[0m",
      "\u001b[0;31mInputError\u001b[0m                                Traceback (most recent call last)",
      "\u001b[0;32m<ipython-input-73-3ca2c6850d2e>\u001b[0m in \u001b[0;36m<module>\u001b[0;34m\u001b[0m\n\u001b[0;32m----> 1\u001b[0;31m pv.ensemble.check(\n\u001b[0m\u001b[1;32m      2\u001b[0m     \u001b[0mdata_sim_one\u001b[0m\u001b[0;34m=\u001b[0m\u001b[0msd\u001b[0m\u001b[0;34m[\u001b[0m\u001b[0;36m0\u001b[0m\u001b[0;34m]\u001b[0m\u001b[0;34m,\u001b[0m\u001b[0;34m\u001b[0m\u001b[0;34m\u001b[0m\u001b[0m\n\u001b[1;32m      3\u001b[0m     \u001b[0mdata_sim_two\u001b[0m\u001b[0;34m=\u001b[0m\u001b[0msd\u001b[0m\u001b[0;34m[\u001b[0m\u001b[0;36m1\u001b[0m\u001b[0;34m]\u001b[0m\u001b[0;34m,\u001b[0m\u001b[0;34m\u001b[0m\u001b[0;34m\u001b[0m\u001b[0m\n\u001b[1;32m      4\u001b[0m     \u001b[0mscreen\u001b[0m\u001b[0;34m=\u001b[0m\u001b[0;32mTrue\u001b[0m\u001b[0;34m\u001b[0m\u001b[0;34m\u001b[0m\u001b[0m\n\u001b[1;32m      5\u001b[0m )\n",
      "\u001b[0;32m~/PhD/Code/sargas/sargas_venv/lib/python3.8/site-packages/physical_validation/ensemble.py\u001b[0m in \u001b[0;36mcheck\u001b[0;34m(data_sim_one, data_sim_two, total_energy, bs_error, bs_repetitions, screen, filename, verbosity)\u001b[0m\n\u001b[1;32m    168\u001b[0m             \u001b[0;32mif\u001b[0m \u001b[0meneq\u001b[0m \u001b[0;34m==\u001b[0m \u001b[0;34m'U'\u001b[0m\u001b[0;34m:\u001b[0m\u001b[0;34m\u001b[0m\u001b[0;34m\u001b[0m\u001b[0m\n\u001b[1;32m    169\u001b[0m                 \u001b[0meneq\u001b[0m \u001b[0;34m=\u001b[0m \u001b[0;34m'H'\u001b[0m\u001b[0;34m\u001b[0m\u001b[0;34m\u001b[0m\u001b[0m\n\u001b[0;32m--> 170\u001b[0;31m             quantiles = ensemble.check_1d(\n\u001b[0m\u001b[1;32m    171\u001b[0m                 \u001b[0mtraj1\u001b[0m\u001b[0;34m=\u001b[0m\u001b[0me1\u001b[0m\u001b[0;34m,\u001b[0m \u001b[0mtraj2\u001b[0m\u001b[0;34m=\u001b[0m\u001b[0me2\u001b[0m\u001b[0;34m,\u001b[0m\u001b[0;34m\u001b[0m\u001b[0;34m\u001b[0m\u001b[0m\n\u001b[1;32m    172\u001b[0m                 \u001b[0mparam1\u001b[0m\u001b[0;34m=\u001b[0m\u001b[0mtemperatures\u001b[0m\u001b[0;34m[\u001b[0m\u001b[0;36m0\u001b[0m\u001b[0;34m]\u001b[0m\u001b[0;34m,\u001b[0m\u001b[0;34m\u001b[0m\u001b[0;34m\u001b[0m\u001b[0m\n",
      "\u001b[0;32m~/PhD/Code/sargas/sargas_venv/lib/python3.8/site-packages/physical_validation/util/ensemble.py\u001b[0m in \u001b[0;36mcheck_1d\u001b[0;34m(traj1, traj2, param1, param2, kb, quantity, dtemp, dpress, dmu, temp, pvconvert, nbins, cutoff, seed, bs_error, bs_repetitions, verbosity, screen, filename, xlabel, xunit)\u001b[0m\n\u001b[1;32m    695\u001b[0m     \u001b[0mbins\u001b[0m \u001b[0;34m=\u001b[0m \u001b[0mcheck_bins\u001b[0m\u001b[0;34m(\u001b[0m\u001b[0mtraj1\u001b[0m\u001b[0;34m,\u001b[0m \u001b[0mtraj2\u001b[0m\u001b[0;34m,\u001b[0m \u001b[0mbins\u001b[0m\u001b[0;34m)\u001b[0m\u001b[0;34m\u001b[0m\u001b[0;34m\u001b[0m\u001b[0m\n\u001b[1;32m    696\u001b[0m     \u001b[0;32mif\u001b[0m \u001b[0mnp\u001b[0m\u001b[0;34m.\u001b[0m\u001b[0msize\u001b[0m\u001b[0;34m(\u001b[0m\u001b[0mbins\u001b[0m\u001b[0;34m)\u001b[0m \u001b[0;34m<\u001b[0m \u001b[0;36m3\u001b[0m\u001b[0;34m:\u001b[0m\u001b[0;34m\u001b[0m\u001b[0;34m\u001b[0m\u001b[0m\n\u001b[0;32m--> 697\u001b[0;31m         raise pv_error.InputError(['traj1', 'traj2', 'nbins', 'cutoff'],\n\u001b[0m\u001b[1;32m    698\u001b[0m                                   \u001b[0;34m'Less than 3 bins were filled in the overlap region.\\n'\u001b[0m\u001b[0;34m\u001b[0m\u001b[0;34m\u001b[0m\u001b[0m\n\u001b[1;32m    699\u001b[0m                                   \u001b[0;34m'Ensure sufficient overlap between the trajectories, and '\u001b[0m\u001b[0;34m\u001b[0m\u001b[0;34m\u001b[0m\u001b[0m\n",
      "\u001b[0;31mInputError\u001b[0m: (['traj1', 'traj2', 'nbins', 'cutoff'], 'Less than 3 bins were filled in the overlap region.\\nEnsure sufficient overlap between the trajectories, and consider increasing `cutoff` or `nbins` if there is sufficient overlap but unusually long tails.')"
     ]
    }
   ],
   "source": [
    "pv.ensemble.check(\n",
    "    data_sim_one=sd[0],\n",
    "    data_sim_two=sd[1],\n",
    "    screen=True\n",
    ")"
   ]
  }
 ],
 "metadata": {
  "kernelspec": {
   "display_name": "sargas",
   "language": "python",
   "name": "sargas"
  },
  "language_info": {
   "codemirror_mode": {
    "name": "ipython",
    "version": 3
   },
   "file_extension": ".py",
   "mimetype": "text/x-python",
   "name": "python",
   "nbconvert_exporter": "python",
   "pygments_lexer": "ipython3",
   "version": "3.8.1"
  }
 },
 "nbformat": 4,
 "nbformat_minor": 4
}
