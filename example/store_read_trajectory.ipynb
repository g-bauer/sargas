{
 "cells": [
  {
   "cell_type": "code",
   "execution_count": 1,
   "metadata": {},
   "outputs": [],
   "source": [
    "import numpy as np\n",
    "import pandas as pd\n",
    "import seaborn as sns\n",
    "from sargas import *\n",
    "import tqdm\n",
    "import matplotlib.pyplot as plt\n",
    "\n",
    "sns.set_palette(\"Dark2\")\n",
    "sns.set_style(\"ticks\")\n",
    "sns.set_context(\"talk\")"
   ]
  },
  {
   "cell_type": "code",
   "execution_count": 2,
   "metadata": {},
   "outputs": [],
   "source": [
    "nparticles = 500\n",
    "temperature = 1.0\n",
    "density = 1.0\n",
    "rc = 3.0\n",
    "ncycles = 100 \n",
    "\n",
    "# Build the system\n",
    "lennard_jones = Potential.lennard_jones(1.0, 1.0, rc, True)\n",
    "configuration = Configuration.lattice(nparticles, density)\n",
    "system = System(configuration=configuration, potential=lennard_jones)\n",
    "\n",
    "# Build the propagator\n",
    "particle_displacement = MCMove.displace_particle(0.1, 0.4, temperature)\n",
    "propagator = MonteCarlo([particle_displacement], [1], temperature)\n",
    "\n",
    "# Build the simulation\n",
    "simulation = Simulation.monte_carlo(system, propagator)\n",
    "\n",
    "# Add sampler\n",
    "properties = Sampler.properties(500)\n",
    "simulation.add_sampler(properties)"
   ]
  },
  {
   "cell_type": "code",
   "execution_count": 3,
   "metadata": {},
   "outputs": [],
   "source": [
    "trajectory = Sampler.trajectory(\"test1.gro\", 500)\n",
    "simulation.add_sampler(trajectory)"
   ]
  },
  {
   "cell_type": "code",
   "execution_count": 4,
   "metadata": {},
   "outputs": [],
   "source": [
    "simulation.run(50000)"
   ]
  },
  {
   "cell_type": "code",
   "execution_count": 2,
   "metadata": {},
   "outputs": [],
   "source": [
    "nparticles = 500\n",
    "temperature = 1.0\n",
    "density = 1.0\n",
    "rc = 3.0\n",
    "ncycles = 100 \n",
    "\n",
    "# Build the system\n",
    "lennard_jones = Potential.lennard_jones(1.0, 1.0, rc, True)\n",
    "configuration = Configuration.lattice(nparticles, density)\n",
    "\n",
    "# Build the simulation\n",
    "simulation = Simulation.rerun_trajectory(lennard_jones, \"test1.gro\")\n",
    "\n",
    "# Add sampler\n",
    "properties = Sampler.properties(1)\n",
    "simulation.add_sampler(properties)"
   ]
  },
  {
   "cell_type": "code",
   "execution_count": 3,
   "metadata": {},
   "outputs": [
    {
     "ename": "PanicException",
     "evalue": "index out of bounds: the len is 0 but the index is 0",
     "output_type": "error",
     "traceback": [
      "\u001b[0;31m---------------------------------------------------------------------------\u001b[0m",
      "\u001b[0;31mPanicException\u001b[0m                            Traceback (most recent call last)",
      "\u001b[0;32m<ipython-input-3-019c317be5a5>\u001b[0m in \u001b[0;36m<module>\u001b[0;34m\u001b[0m\n\u001b[0;32m----> 1\u001b[0;31m \u001b[0msimulation\u001b[0m\u001b[0;34m.\u001b[0m\u001b[0mrun\u001b[0m\u001b[0;34m(\u001b[0m\u001b[0;36m1\u001b[0m\u001b[0;34m)\u001b[0m\u001b[0;34m\u001b[0m\u001b[0;34m\u001b[0m\u001b[0m\n\u001b[0m",
      "\u001b[0;31mPanicException\u001b[0m: index out of bounds: the len is 0 but the index is 0"
     ]
    }
   ],
   "source": [
    "simulation.run(1)"
   ]
  },
  {
   "cell_type": "code",
   "execution_count": null,
   "metadata": {},
   "outputs": [],
   "source": []
  }
 ],
 "metadata": {
  "kernelspec": {
   "display_name": "sargas",
   "language": "python",
   "name": "sargas"
  },
  "language_info": {
   "codemirror_mode": {
    "name": "ipython",
    "version": 3
   },
   "file_extension": ".py",
   "mimetype": "text/x-python",
   "name": "python",
   "nbconvert_exporter": "python",
   "pygments_lexer": "ipython3",
   "version": "3.8.1"
  }
 },
 "nbformat": 4,
 "nbformat_minor": 4
}
