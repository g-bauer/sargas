{
 "cells": [
  {
   "cell_type": "code",
   "execution_count": 1,
   "metadata": {},
   "outputs": [],
   "source": [
    "import numpy as np\n",
    "import pandas as pd\n",
    "import seaborn as sns\n",
    "from sargas import *\n",
    "import tqdm\n",
    "import matplotlib.pyplot as plt\n",
    "\n",
    "sns.set_palette(\"Dark2\")\n",
    "sns.set_style(\"ticks\")\n",
    "sns.set_context(\"talk\")"
   ]
  },
  {
   "cell_type": "markdown",
   "metadata": {},
   "source": [
    "# Assignment 2: Chemical Potential and Vapor-Liquid Equilibria (VLE)\n",
    "\n",
    "## Introduction <a id=\"Introduction\"/>\n",
    "\n",
    "The vapor-liquid coexistence point of a Lennard-Jones system at a\n",
    "certain temperature can be found by different simulation techniques. In\n",
    "this exercise we will locate the phase coexistence calculating the equation of\n",
    "state of the system using simulations in the canonical ensemble (NVT),\n",
    "and we will impose the conditions of phase equilibrium.\n",
    "\n",
    "We will use NVT simulations to create the trajectories from which the chemical potential will be computed.\n",
    "All simulations of this assignment will be conducted using a **truncated Lennard-Jones potential without tail corrections**."
   ]
  },
  {
   "cell_type": "markdown",
   "metadata": {},
   "source": [
    "## Table of Contents <a id=\"toc\"/>\n",
    "\n",
    "- [Introduction](#Introduction)\n",
    "- [The Chemical Potential from the Partition Function](#Chemical-Potential)\n",
    "- [Widom's Particle Insertion](#Widom)\n",
    "- [Compiling and Testing](#compiling-And-Testing)\n",
    "- [Your Tasks](#tasks)\n",
    "  - [1. Nearest Image Convention and Periodic Boundary Conditions](#PBC)\n",
    "  - [2. Run a Simulation](#Simulation)\n",
    "  - [3. Pressure and Ideal Gas Law](#Pressure)\n",
    "  - [4. The Truncated and Shifted Lennard-Jones Potential](#Truncated-Shifted)\n",
    "  - [5. Tail Corrections](#Tail-Corrections)\n",
    "  - [6. Comparison to NIST](#NIST)"
   ]
  },
  {
   "cell_type": "markdown",
   "metadata": {},
   "source": [
    "## The Chemical Potential from  the Partition Function <a id=\"Chemical-Potential\"/>\n",
    "\n",
    "[↑ back to top](#toc)\n",
    "\n",
    "We can divide the chemical potential into two additive contributions, one for the ideal gas and one residual contribution:\n",
    "\n",
    "\\begin{align}\n",
    "\\mu = \\mu^\\text{ig} + \\mu^\\text{res}\n",
    "\\end{align}\n",
    "\n",
    "Recall that the chemical potential is the partial derivative of the Helmholtz energy with respect to the amount of substance (or here: the number of particles). For a pure substance, we can write:\n",
    "\n",
    "\\begin{align}\n",
    "\\mu &= \\left(\\frac{\\partial A}{\\partial N}\\right)_{T, V} \\\\\n",
    "&= -k_BT \\left(\\frac{\\partial \\ln Q_\\text{NVT}}{\\partial N}\\right)_{T, V} \\\\\n",
    "\\end{align}\n",
    "\n",
    "with the quantum corrected partition function of the canonical ensemble for mono-atomic substances (omitting the internal partition function), $Q_\\text{NVT}$:\n",
    "\n",
    "\\begin{align}\n",
    "Q_\\text{NVT} = \\frac{1}{N!\\Lambda^{3N}}\\int e^{-\\beta U(\\mathbf{r}^N)} \\mathrm{d}\\mathbf{r}^N\n",
    "\\end{align}\n",
    "\n",
    "For an ideal gas, we set the potential energy of the system to zero and then take the derivative:\n",
    "\n",
    "\\begin{align}\n",
    "Q_\\text{NVT}^\\text{ig} &= \\frac{1}{N!\\Lambda^{3N}}\\underbrace{\\int \\mathrm{d}\\mathbf{r}^N}_{=V^N} \\\\\n",
    "\\mu^\\text{ig} &= -k_BT \\frac{\\partial}{\\partial N} \\left( N\\ln V - \\ln N! - N\\ln\\Lambda^3 \\right) \\\\\n",
    "&= k_BT \\ln \\left[\\rho\\Lambda^3\\right]\n",
    "\\end{align}\n",
    "\n"
   ]
  },
  {
   "cell_type": "markdown",
   "metadata": {},
   "source": [
    "## Widom's Particle Insertion <a id=\"Widom\"/>\n",
    "\n",
    "[↑ back to top](#toc)\n",
    "\n",
    "The residual contribution to the chemical potential requires integration over all possible microstates of the system for the given control variables $N, V$ and $T$. However, for a molecular system, the smallest possible change in the amount of substance ($N$) is removing or adding a single molecule or particle. We can approximate the chemical potential by adding a (ghost) particle to the system:\n",
    "\n",
    "\\begin{align}\n",
    "\\mu &= \\frac{A(N+\\Delta N, V, T) - A(N, V, T)}{\\Delta N} \\\\\n",
    "&\\underbrace{=}_{\\Delta N = 1} A(N+1, V, T) - A(N, V, T) \\\\\n",
    "&= -k_B T \\ln \\frac{Q_\\text{N+1VT}}{Q_\\text{NVT}} \\\\\n",
    "&= \\mu^\\text{ig} - k_BT \\ln \\langle e^{-\\beta \\Delta^+ U(\\mathbf{r}^N, \\mathbf{r}^+)}  \\rangle\n",
    "\\end{align}\n",
    "\n",
    "with $\\Delta^+ U(\\mathbf{r}^N, \\mathbf{r}^+)$ being the energy of the ghost particle (at position $\\mathbf{r}^+$) with all other particles (at positions $\\mathbf{r}^N$) in the system.\n",
    "\n",
    "The tail correction is approximately twice the per-particle energy tail correction. \n",
    "\n",
    "\\begin{equation}\n",
    "  \\beta\\mu^\\text{tail} \\approx 2 u^\\text{tail}(\\rho)\n",
    "\\end{equation}\n",
    "\n",
    "For very small numbers of particles, this approximation is not suitable."
   ]
  },
  {
   "cell_type": "markdown",
   "metadata": {},
   "source": [
    "## Compiling and Testing <a id=\"compiling-And-Testing\"/>\n",
    "\n",
    "[↑ back to top](#toc)\n",
    "\n",
    "To **compile** the code (*which does not build the python module*), use \n",
    "\n",
    "```\n",
    "RUSTFLAGS=\"-C target-cpu=native\" cargo build --release\n",
    "```\n",
    "\n",
    "To **test** the code, type\n",
    "\n",
    "```\n",
    "RUSTFLAGS=\"-C target-cpu=native\" cargo test --release --test assignment2\n",
    "```\n",
    "<div class=\"alert alert-danger\">A red box signals that there is a <strong>test</strong> for an implementation! Run the test with <code>RUSTFLAGS=\"-C target-cpu=native\" cargo test --release --test assignment2</code></div>\n",
    "\n",
    "To build the **Python module**, type\n",
    "\n",
    "```\n",
    "RUSTFLAGS=\"-C target-cpu=native\" maturin develop --release\n",
    "```\n",
    "\n",
    "If the last step fails stating that \"the resource is currently in use\" (or something similar) make sure to **stop the Jupyter kernel** and try running the command again."
   ]
  },
  {
   "cell_type": "markdown",
   "metadata": {},
   "source": [
    "---\n",
    "## Your Tasks <a id=\"tasks\"/>\n",
    "\n",
    "[↑ back to top](#toc)"
   ]
  },
  {
   "cell_type": "markdown",
   "metadata": {},
   "source": [
    "---\n",
    "1. Widom Algorithm\n",
    "\n",
    "Implement the test particle insertion algorithm in `src/system.rs` in the function `ghost_particle_energy_sum`."
   ]
  },
  {
   "cell_type": "code",
   "execution_count": 4,
   "metadata": {},
   "outputs": [],
   "source": [
    "def nvt(nparticles, temperature, density, nequilibration, nproduction, nsample, ntrajectory):\n",
    "    \"\"\"Run a NVT simulation with rc=3.0 and tail corrections.\n",
    "    \n",
    "    Parameters\n",
    "    ----------\n",
    "    nparticles : int\n",
    "        number of particles\n",
    "    temperature : float\n",
    "        reduced temperature\n",
    "    density : float\n",
    "        reduced density\n",
    "    nequilibration : int\n",
    "        number of equilibration steps\n",
    "    nproduction : int\n",
    "        number of production steps\n",
    "    nsample : int\n",
    "        sample after this many steps\n",
    "        \n",
    "    Returns\n",
    "    -------\n",
    "    pd.DataFrame : data frame containing results\n",
    "    \"\"\"   \n",
    "    rc = 3.0\n",
    "    tail_correction = True\n",
    "\n",
    "    # Build the system\n",
    "    lennard_jones = Potential.lennard_jones(1.0, 1.0, rc, tail_correction)\n",
    "    configuration = Configuration.lattice(nparticles, density)\n",
    "    system = System(configuration=configuration, potential=lennard_jones)\n",
    "\n",
    "    # Build the propagator\n",
    "    particle_displacement = MCMove.displace_particle(0.1, 0.4, temperature)\n",
    "    propagator = MonteCarlo([particle_displacement], [1], temperature)\n",
    "\n",
    "    # Build the simulation\n",
    "    simulation = Simulation.monte_carlo(system, propagator)\n",
    "\n",
    "    # Run equilibration\n",
    "    for _ in tqdm.tqdm(range(nequilibration), desc=\"Equilibration\"):\n",
    "        simulation.run(nparticles)\n",
    "    \n",
    "    # stop adjusting the maximum displacement\n",
    "    simulation.deactivate_propagator_updates()\n",
    "    \n",
    "    # Add sampler\n",
    "    properties = Sampler.properties(nparticles * nsample)\n",
    "    trajectory = Sampler.trajectory(f\"{temperature}_t_{density}_rho.gro\", nparticles * ntrajectory)\n",
    "    simulation.add_sampler(properties)\n",
    "    simulation.add_sampler(trajectory)\n",
    "    \n",
    "    # Run production\n",
    "    for _ in tqdm.tqdm(range(nproduction), desc=\"Production   \"):\n",
    "        simulation.run(nparticles)\n",
    "    \n",
    "    return pd.DataFrame(properties.data)"
   ]
  },
  {
   "cell_type": "code",
   "execution_count": 36,
   "metadata": {},
   "outputs": [],
   "source": [
    "temperature = 0.8\n",
    "densities = [0.9, 1.0, 1.1]#[0.02, 0.03, 0.04, 0.05, 0.075, 0.1, 0.2, 0.3, 0.4, 0.5, 0.6, 0.7, 0.8]"
   ]
  },
  {
   "cell_type": "code",
   "execution_count": 37,
   "metadata": {},
   "outputs": [
    {
     "name": "stderr",
     "output_type": "stream",
     "text": [
      "Equilibration: 100%|██████████| 5000/5000 [00:21<00:00, 231.31it/s]\n",
      "Production   : 100%|██████████| 20000/20000 [02:03<00:00, 162.10it/s]\n",
      "Equilibration: 100%|██████████| 5000/5000 [00:22<00:00, 225.03it/s]\n",
      "Production   : 100%|██████████| 20000/20000 [01:46<00:00, 188.56it/s]\n",
      "Equilibration: 100%|██████████| 5000/5000 [00:22<00:00, 226.81it/s]\n",
      "Production   : 100%|██████████| 20000/20000 [01:58<00:00, 168.95it/s]\n"
     ]
    }
   ],
   "source": [
    "for density in densities:\n",
    "    _ = nvt(500, temperature, density, 5000, 20000, 100, 20)"
   ]
  },
  {
   "cell_type": "code",
   "execution_count": 61,
   "metadata": {},
   "outputs": [],
   "source": [
    "def rerun_trajectory(filename, temperature):\n",
    "    \"\"\"Read a trajectory and apply samplers.\n",
    "    \n",
    "    Parameters\n",
    "    ----------\n",
    "    temperature : float\n",
    "        reduced temperature\n",
    "        \n",
    "    Returns\n",
    "    -------\n",
    "    (pd.DataFrame, pd.DataFrame):\n",
    "        properties, chemical_potential\n",
    "    \"\"\"   \n",
    "    rc = 3.0\n",
    "    tail_correction = True\n",
    "\n",
    "    lennard_jones = Potential.lennard_jones(1.0, 1.0, rc, tail_correction)\n",
    "    \n",
    "    # Build the simulation\n",
    "    simulation = Simulation.rerun_trajectory(lennard_jones, filename)\n",
    "\n",
    "    # Add sampler\n",
    "    properties = Sampler.properties(1)\n",
    "    widom = Sampler.widom(1, temperature, ninsertions=1500)\n",
    "    simulation.add_sampler(properties)\n",
    "    simulation.add_sampler(widom)\n",
    "    \n",
    "    try:\n",
    "        simulation.run(100000)\n",
    "    except Exception as e:\n",
    "        print(e)\n",
    "    \n",
    "    return pd.DataFrame(properties.data), pd.DataFrame(widom.data)"
   ]
  },
  {
   "cell_type": "code",
   "execution_count": 62,
   "metadata": {},
   "outputs": [],
   "source": [
    "import glob\n",
    "import re\n",
    "\n",
    "PATTERN = re.compile(\"(\\d+.\\d+)_t_(\\d+.\\d+)_rho.gro\")"
   ]
  },
  {
   "cell_type": "code",
   "execution_count": 63,
   "metadata": {},
   "outputs": [
    {
     "name": "stdout",
     "output_type": "stream",
     "text": [
      "1.0_t_0.5_rho.gro\n",
      "can not read file '1.0_t_0.5_rho.gro' at step 1000: maximal step is 999\n",
      "0.8_t_0.02_rho.gro\n",
      "can not read file '0.8_t_0.02_rho.gro' at step 1000: maximal step is 999\n",
      "0.8_t_0.03_rho.gro\n",
      "can not read file '0.8_t_0.03_rho.gro' at step 1000: maximal step is 999\n",
      "0.8_t_0.04_rho.gro\n",
      "can not read file '0.8_t_0.04_rho.gro' at step 1000: maximal step is 999\n",
      "0.8_t_0.05_rho.gro\n",
      "can not read file '0.8_t_0.05_rho.gro' at step 1000: maximal step is 999\n",
      "0.8_t_0.075_rho.gro\n",
      "can not read file '0.8_t_0.075_rho.gro' at step 1000: maximal step is 999\n",
      "0.8_t_0.1_rho.gro\n",
      "can not read file '0.8_t_0.1_rho.gro' at step 1000: maximal step is 999\n",
      "0.8_t_0.2_rho.gro\n",
      "can not read file '0.8_t_0.2_rho.gro' at step 1000: maximal step is 999\n",
      "0.8_t_0.3_rho.gro\n",
      "can not read file '0.8_t_0.3_rho.gro' at step 1000: maximal step is 999\n",
      "0.8_t_0.4_rho.gro\n",
      "can not read file '0.8_t_0.4_rho.gro' at step 1000: maximal step is 999\n",
      "0.8_t_0.5_rho.gro\n",
      "can not read file '0.8_t_0.5_rho.gro' at step 1000: maximal step is 999\n",
      "0.8_t_0.6_rho.gro\n",
      "can not read file '0.8_t_0.6_rho.gro' at step 1000: maximal step is 999\n",
      "0.8_t_0.7_rho.gro\n",
      "can not read file '0.8_t_0.7_rho.gro' at step 1000: maximal step is 999\n",
      "0.8_t_0.8_rho.gro\n",
      "can not read file '0.8_t_0.8_rho.gro' at step 1000: maximal step is 999\n",
      "0.8_t_0.9_rho.gro\n",
      "can not read file '0.8_t_0.9_rho.gro' at step 1000: maximal step is 999\n",
      "0.8_t_1.0_rho.gro\n",
      "can not read file '0.8_t_1.0_rho.gro' at step 1000: maximal step is 999\n",
      "0.8_t_1.1_rho.gro\n",
      "can not read file '0.8_t_1.1_rho.gro' at step 1000: maximal step is 999\n"
     ]
    }
   ],
   "source": [
    "results = {}\n",
    "\n",
    "for filename in glob.glob(\"*rho.gro\"):\n",
    "    print(filename)\n",
    "    t, rho = PATTERN.search(filename).groups()\n",
    "    t = float(t)\n",
    "    rho = float(rho)\n",
    "    ps, mus = rerun_trajectory(filename, t)\n",
    "    results.update({(t, rho): (ps, mus)})"
   ]
  },
  {
   "cell_type": "code",
   "execution_count": 64,
   "metadata": {},
   "outputs": [],
   "source": [
    "def means(temperature, density, props, mus):\n",
    "    return {\n",
    "        \"temperature\": temperature,\n",
    "        \"density\": density,\n",
    "        \"pressure\": density * temperature + props.pressure.mean(),\n",
    "        \"energy\": props.potential_energy.mean(),\n",
    "        \"mu\": mus.chemical_potential.values[-1]\n",
    "    }"
   ]
  },
  {
   "cell_type": "code",
   "execution_count": 65,
   "metadata": {},
   "outputs": [],
   "source": [
    "summary = []\n",
    "for (temperature, density), (props, mus) in results.items():\n",
    "    summary.append(means(temperature, density, props, mus)) "
   ]
  },
  {
   "cell_type": "code",
   "execution_count": 70,
   "metadata": {},
   "outputs": [
    {
     "data": {
      "text/html": [
       "<div>\n",
       "<style scoped>\n",
       "    .dataframe tbody tr th:only-of-type {\n",
       "        vertical-align: middle;\n",
       "    }\n",
       "\n",
       "    .dataframe tbody tr th {\n",
       "        vertical-align: top;\n",
       "    }\n",
       "\n",
       "    .dataframe thead th {\n",
       "        text-align: right;\n",
       "    }\n",
       "</style>\n",
       "<table border=\"1\" class=\"dataframe\">\n",
       "  <thead>\n",
       "    <tr style=\"text-align: right;\">\n",
       "      <th></th>\n",
       "      <th>temperature</th>\n",
       "      <th>density</th>\n",
       "      <th>pressure</th>\n",
       "      <th>energy</th>\n",
       "      <th>mu</th>\n",
       "    </tr>\n",
       "  </thead>\n",
       "  <tbody>\n",
       "    <tr>\n",
       "      <th>1</th>\n",
       "      <td>0.8</td>\n",
       "      <td>0.020</td>\n",
       "      <td>0.013458</td>\n",
       "      <td>-115.059656</td>\n",
       "      <td>-4.225451</td>\n",
       "    </tr>\n",
       "    <tr>\n",
       "      <th>2</th>\n",
       "      <td>0.8</td>\n",
       "      <td>0.030</td>\n",
       "      <td>0.018402</td>\n",
       "      <td>-173.884425</td>\n",
       "      <td>-3.979239</td>\n",
       "    </tr>\n",
       "    <tr>\n",
       "      <th>3</th>\n",
       "      <td>0.8</td>\n",
       "      <td>0.040</td>\n",
       "      <td>0.021795</td>\n",
       "      <td>-244.862760</td>\n",
       "      <td>-3.856443</td>\n",
       "    </tr>\n",
       "    <tr>\n",
       "      <th>4</th>\n",
       "      <td>0.8</td>\n",
       "      <td>0.050</td>\n",
       "      <td>0.023618</td>\n",
       "      <td>-333.214893</td>\n",
       "      <td>-3.814260</td>\n",
       "    </tr>\n",
       "    <tr>\n",
       "      <th>5</th>\n",
       "      <td>0.8</td>\n",
       "      <td>0.075</td>\n",
       "      <td>0.022314</td>\n",
       "      <td>-588.821797</td>\n",
       "      <td>-3.919837</td>\n",
       "    </tr>\n",
       "    <tr>\n",
       "      <th>6</th>\n",
       "      <td>0.8</td>\n",
       "      <td>0.100</td>\n",
       "      <td>0.015470</td>\n",
       "      <td>-941.937869</td>\n",
       "      <td>-4.124705</td>\n",
       "    </tr>\n",
       "    <tr>\n",
       "      <th>7</th>\n",
       "      <td>0.8</td>\n",
       "      <td>0.200</td>\n",
       "      <td>-0.015772</td>\n",
       "      <td>-1515.038371</td>\n",
       "      <td>-4.608656</td>\n",
       "    </tr>\n",
       "    <tr>\n",
       "      <th>8</th>\n",
       "      <td>0.8</td>\n",
       "      <td>0.300</td>\n",
       "      <td>-0.051758</td>\n",
       "      <td>-1930.772672</td>\n",
       "      <td>-4.871249</td>\n",
       "    </tr>\n",
       "    <tr>\n",
       "      <th>9</th>\n",
       "      <td>0.8</td>\n",
       "      <td>0.400</td>\n",
       "      <td>-0.161841</td>\n",
       "      <td>-2056.842101</td>\n",
       "      <td>-5.200591</td>\n",
       "    </tr>\n",
       "    <tr>\n",
       "      <th>10</th>\n",
       "      <td>0.8</td>\n",
       "      <td>0.500</td>\n",
       "      <td>-0.292616</td>\n",
       "      <td>-2201.629274</td>\n",
       "      <td>-5.508397</td>\n",
       "    </tr>\n",
       "    <tr>\n",
       "      <th>11</th>\n",
       "      <td>0.8</td>\n",
       "      <td>0.600</td>\n",
       "      <td>-0.490066</td>\n",
       "      <td>-2312.873301</td>\n",
       "      <td>-5.969458</td>\n",
       "    </tr>\n",
       "    <tr>\n",
       "      <th>12</th>\n",
       "      <td>0.8</td>\n",
       "      <td>0.700</td>\n",
       "      <td>-0.650484</td>\n",
       "      <td>-2513.217725</td>\n",
       "      <td>-6.083872</td>\n",
       "    </tr>\n",
       "    <tr>\n",
       "      <th>13</th>\n",
       "      <td>0.8</td>\n",
       "      <td>0.800</td>\n",
       "      <td>0.015235</td>\n",
       "      <td>-2857.808231</td>\n",
       "      <td>-5.250888</td>\n",
       "    </tr>\n",
       "    <tr>\n",
       "      <th>14</th>\n",
       "      <td>0.8</td>\n",
       "      <td>0.900</td>\n",
       "      <td>1.877444</td>\n",
       "      <td>-3150.288627</td>\n",
       "      <td>-0.751985</td>\n",
       "    </tr>\n",
       "  </tbody>\n",
       "</table>\n",
       "</div>"
      ],
      "text/plain": [
       "    temperature  density  pressure       energy        mu\n",
       "1           0.8    0.020  0.013458  -115.059656 -4.225451\n",
       "2           0.8    0.030  0.018402  -173.884425 -3.979239\n",
       "3           0.8    0.040  0.021795  -244.862760 -3.856443\n",
       "4           0.8    0.050  0.023618  -333.214893 -3.814260\n",
       "5           0.8    0.075  0.022314  -588.821797 -3.919837\n",
       "6           0.8    0.100  0.015470  -941.937869 -4.124705\n",
       "7           0.8    0.200 -0.015772 -1515.038371 -4.608656\n",
       "8           0.8    0.300 -0.051758 -1930.772672 -4.871249\n",
       "9           0.8    0.400 -0.161841 -2056.842101 -5.200591\n",
       "10          0.8    0.500 -0.292616 -2201.629274 -5.508397\n",
       "11          0.8    0.600 -0.490066 -2312.873301 -5.969458\n",
       "12          0.8    0.700 -0.650484 -2513.217725 -6.083872\n",
       "13          0.8    0.800  0.015235 -2857.808231 -5.250888\n",
       "14          0.8    0.900  1.877444 -3150.288627 -0.751985"
      ]
     },
     "execution_count": 70,
     "metadata": {},
     "output_type": "execute_result"
    }
   ],
   "source": [
    "df = pd.DataFrame(summary)\n",
    "df = df.drop(index=0)\n",
    "df = df.drop(index=16)\n",
    "df = df.drop(index=15)\n",
    "df"
   ]
  },
  {
   "cell_type": "code",
   "execution_count": 78,
   "metadata": {},
   "outputs": [
    {
     "data": {
      "text/plain": [
       "(-5.5, -3.0)"
      ]
     },
     "execution_count": 78,
     "metadata": {},
     "output_type": "execute_result"
    },
    {
     "data": {
      "image/png": "[encoded data removed]",
      "text/plain": [
       "<Figure size 864x504 with 1 Axes>"
      ]
     },
     "metadata": {},
     "output_type": "display_data"
    }
   ],
   "source": [
    "fig, ax = plt.subplots(figsize=(12, 7))\n",
    "sns.scatterplot(data=df, y=\"mu\", x=\"pressure\", hue=\"density\", ax=ax)\n",
    "ax.set_xlim(-0.2, 0.2)\n",
    "ax.set_ylim(-5.5, -3)\n"
   ]
  },
  {
   "cell_type": "code",
   "execution_count": 73,
   "metadata": {},
   "outputs": [
    {
     "data": {
      "text/plain": [
       "<AxesSubplot:xlabel='density', ylabel='pressure'>"
      ]
     },
     "execution_count": 73,
     "metadata": {},
     "output_type": "execute_result"
    },
    {
     "data": {
      "image/png": "[encoded data removed]",
      "text/plain": [
       "<Figure size 432x288 with 1 Axes>"
      ]
     },
     "metadata": {},
     "output_type": "display_data"
    }
   ],
   "source": [
    "sns.lineplot(data=df, y=\"pressure\", x=\"density\")"
   ]
  },
  {
   "cell_type": "code",
   "execution_count": null,
   "metadata": {},
   "outputs": [],
   "source": []
  }
 ],
 "metadata": {
  "kernelspec": {
   "display_name": "sargas",
   "language": "python",
   "name": "sargas"
  },
  "language_info": {
   "codemirror_mode": {
    "name": "ipython",
    "version": 3
   },
   "file_extension": ".py",
   "mimetype": "text/x-python",
   "name": "python",
   "nbconvert_exporter": "python",
   "pygments_lexer": "ipython3",
   "version": "3.8.1"
  }
 },
 "nbformat": 4,
 "nbformat_minor": 4
}
