{
 "cells": [
  {
   "cell_type": "code",
   "execution_count": 1,
   "metadata": {},
   "outputs": [],
   "source": [
    "import pandas as pd\n",
    "import numpy as np\n",
    "from sargas import *\n",
    "import seaborn as sns\n",
    "import matplotlib.pyplot as plt"
   ]
  },
  {
   "cell_type": "markdown",
   "metadata": {},
   "source": [
    "# NVT Simulation"
   ]
  },
  {
   "cell_type": "code",
   "execution_count": 2,
   "metadata": {},
   "outputs": [],
   "source": [
    "def build_nvt(n, rho, t, rc, tail_correction):\n",
    "    potential = Potential.lennard_jones(1.0, 1.0, rc, tail_correction=True)\n",
    "    configuration = Configuration.from_lattice(n, rho)\n",
    "    system = System(configuration, potential)\n",
    "    displace_particle = MCMove.displace_particle(0.1, 0.4, t)\n",
    "    mc = MonteCarlo([displace_particle], [1], t)\n",
    "    simulation = Simulation.monte_carlo(system, mc, n)\n",
    "    return simulation, system\n",
    "\n",
    "def run_simulation(simulation, equilibration, production, t):\n",
    "    simulation.run(equilibration)\n",
    "    simulation.deactivate_propagator_updates()\n",
    "    \n",
    "    properties = Observer.properties(1000)\n",
    "    simulation.add_observer(properties)\n",
    "    \n",
    "    energy = Observer.energy(1000, 1000)\n",
    "    simulation.add_observer(energy)\n",
    "    widom = Observer.widom(5000, t, 1000, 10, 500)\n",
    "    simulation.add_observer(widom)\n",
    "    \n",
    "    simulation.run(production)\n",
    "    return properties, energy, widom"
   ]
  },
  {
   "cell_type": "code",
   "execution_count": 25,
   "metadata": {},
   "outputs": [
    {
     "data": {
      "text/plain": [
       "8.58580401973519"
      ]
     },
     "execution_count": 25,
     "metadata": {},
     "output_type": "execute_result"
    }
   ],
   "source": [
    "t = 0.9\n",
    "sim, sys = build_nvt(500, 0.79, t, 3.0, True)\n",
    "sys.box_length"
   ]
  },
  {
   "cell_type": "code",
   "execution_count": 26,
   "metadata": {},
   "outputs": [
    {
     "name": "stdout",
     "output_type": "stream",
     "text": [
      "CPU times: user 1min 9s, sys: 128 ms, total: 1min 9s\n",
      "Wall time: 1min 9s\n"
     ]
    }
   ],
   "source": [
    "%%time\n",
    "prop, ener, wid = run_simulation(sim, 500 * 5000, 500 * 5000, t)"
   ]
  },
  {
   "cell_type": "code",
   "execution_count": 27,
   "metadata": {},
   "outputs": [
    {
     "data": {
      "image/png": "[encoded data removed]",
      "text/plain": [
       "<Figure size 432x288 with 1 Axes>"
      ]
     },
     "metadata": {
      "needs_background": "light"
     },
     "output_type": "display_data"
    }
   ],
   "source": [
    "wdm = pd.DataFrame(wid.data)\n",
    "sns.lineplot(data=wdm);"
   ]
  },
  {
   "cell_type": "code",
   "execution_count": 30,
   "metadata": {},
   "outputs": [
    {
     "data": {
      "text/plain": [
       "(-2.794098206450717, 0.11316042564896533)"
      ]
     },
     "execution_count": 30,
     "metadata": {},
     "output_type": "execute_result"
    }
   ],
   "source": [
    "wdm.iloc[-1].mean() * t, 2.33 * (wdm.iloc[-1] * t).sem(ddof=1)"
   ]
  },
  {
   "cell_type": "code",
   "execution_count": 52,
   "metadata": {},
   "outputs": [],
   "source": [
    "simulation.deactivate_propagator_updates()\n",
    "props = Observer.properties(1000)\n",
    "simulation.add_observer(props)\n",
    "widom = Observer.widom_insertion(100)\n",
    "simulation.add_observer(widom)"
   ]
  },
  {
   "cell_type": "code",
   "execution_count": 57,
   "metadata": {},
   "outputs": [],
   "source": [
    "simulation.run(10_000_000)"
   ]
  },
  {
   "cell_type": "code",
   "execution_count": 58,
   "metadata": {},
   "outputs": [],
   "source": [
    "properties = pd.DataFrame(props.data)"
   ]
  },
  {
   "cell_type": "code",
   "execution_count": 59,
   "metadata": {},
   "outputs": [
    {
     "name": "stdout",
     "output_type": "stream",
     "text": [
      "u = -5.98412e+00 +- 3.13958e-04\n"
     ]
    }
   ],
   "source": [
    "print(\"u = {:.5e} +- {:.5e}\".format(properties.energy.mean() / system.nparticles, properties.energy.sem() / system.nparticles))"
   ]
  },
  {
   "cell_type": "code",
   "execution_count": 60,
   "metadata": {},
   "outputs": [
    {
     "name": "stdout",
     "output_type": "stream",
     "text": [
      "p = 2.62406e+00 +- 1.58288e-03\n"
     ]
    }
   ],
   "source": [
    "print(\"p = {:.5e} +- {:.5e}\".format(properties.pressure.mean(), properties.pressure.sem()))"
   ]
  },
  {
   "cell_type": "markdown",
   "metadata": {},
   "source": [
    "# NPT"
   ]
  },
  {
   "cell_type": "code",
   "execution_count": 60,
   "metadata": {},
   "outputs": [],
   "source": [
    "nparticles = 500\n",
    "\n",
    "density = 9e-1\n",
    "volume = nparticles / density\n",
    "temperature = 9e-1\n",
    "pressure = 2.62\n",
    "rc = 3.0\n",
    "\n",
    "potential = Potential.lennard_jones(1.0, 1.0, tail_correction=True)\n",
    "# system = System.insert_particles(nparticles, volume, temperature, 15, rc, potential, nparticles, 1000000)\n",
    "system = System.from_lattice(nparticles, density, temperature, rc, potential)\n",
    "\n",
    "displace_particle = MCMove.displace_particle(0.1, 0.4, nparticles)\n",
    "change_volume = MCMove.change_volume(0.1, 0.4, pressure)\n",
    "mc = MonteCarlo([displace_particle, change_volume], [500, 1], temperature)\n",
    "\n",
    "simulation = Simulation.monte_carlo(system, mc, 500)"
   ]
  },
  {
   "cell_type": "code",
   "execution_count": 61,
   "metadata": {},
   "outputs": [
    {
     "name": "stdout",
     "output_type": "stream",
     "text": [
      "CPU times: user 10.6 s, sys: 79.6 ms, total: 10.6 s\n",
      "Wall time: 10.6 s\n"
     ]
    }
   ],
   "source": [
    "%%time\n",
    "simulation.run(1_000_000)"
   ]
  },
  {
   "cell_type": "code",
   "execution_count": 62,
   "metadata": {},
   "outputs": [],
   "source": [
    "#simulation.deactivate_propagator_updates()\n",
    "props = Observer.properties(1000)\n",
    "simulation.add_observer(props)\n",
    "widom = Observer.widom_insertion(100)\n",
    "simulation.add_observer(widom)"
   ]
  },
  {
   "cell_type": "code",
   "execution_count": 63,
   "metadata": {},
   "outputs": [],
   "source": [
    "simulation.run(1_000_000)"
   ]
  },
  {
   "cell_type": "code",
   "execution_count": 64,
   "metadata": {},
   "outputs": [],
   "source": [
    "properties = pd.DataFrame(props.data)"
   ]
  },
  {
   "cell_type": "code",
   "execution_count": 65,
   "metadata": {},
   "outputs": [
    {
     "name": "stdout",
     "output_type": "stream",
     "text": [
      "u = -4.50599e+00 +- 3.07833e-03\n"
     ]
    }
   ],
   "source": [
    "print(\"u = {:.5e} +- {:.5e}\".format(properties.energy.mean() / system.nparticles, properties.energy.sem() / system.nparticles))"
   ]
  },
  {
   "cell_type": "code",
   "execution_count": 66,
   "metadata": {},
   "outputs": [
    {
     "name": "stdout",
     "output_type": "stream",
     "text": [
      "p = -4.28852e-01 +- 4.20973e-03\n"
     ]
    }
   ],
   "source": [
    "print(\"p = {:.5e} +- {:.5e}\".format(properties.pressure.mean(), properties.pressure.sem()))"
   ]
  },
  {
   "cell_type": "code",
   "execution_count": 67,
   "metadata": {},
   "outputs": [
    {
     "name": "stdout",
     "output_type": "stream",
     "text": [
      "v = 7.65029e+02 +- 5.44804e-01\n"
     ]
    }
   ],
   "source": [
    "print(\"v = {:.5e} +- {:.5e}\".format(properties.volume.mean(), properties.volume.sem()))"
   ]
  },
  {
   "cell_type": "code",
   "execution_count": 68,
   "metadata": {},
   "outputs": [
    {
     "data": {
      "text/html": [
       "<div>\n",
       "<style scoped>\n",
       "    .dataframe tbody tr th:only-of-type {\n",
       "        vertical-align: middle;\n",
       "    }\n",
       "\n",
       "    .dataframe tbody tr th {\n",
       "        vertical-align: top;\n",
       "    }\n",
       "\n",
       "    .dataframe thead th {\n",
       "        text-align: right;\n",
       "    }\n",
       "</style>\n",
       "<table border=\"1\" class=\"dataframe\">\n",
       "  <thead>\n",
       "    <tr style=\"text-align: right;\">\n",
       "      <th></th>\n",
       "      <th>virial</th>\n",
       "      <th>nparticles</th>\n",
       "      <th>volume</th>\n",
       "      <th>energy</th>\n",
       "      <th>pressure</th>\n",
       "      <th>density</th>\n",
       "    </tr>\n",
       "  </thead>\n",
       "  <tbody>\n",
       "    <tr>\n",
       "      <th>count</th>\n",
       "      <td>1000.000000</td>\n",
       "      <td>1000.0</td>\n",
       "      <td>1000.000000</td>\n",
       "      <td>1000.000000</td>\n",
       "      <td>1000.000000</td>\n",
       "      <td>1000.000000</td>\n",
       "    </tr>\n",
       "    <tr>\n",
       "      <th>mean</th>\n",
       "      <td>-1727.093253</td>\n",
       "      <td>500.0</td>\n",
       "      <td>765.029087</td>\n",
       "      <td>-2252.996924</td>\n",
       "      <td>-0.428852</td>\n",
       "      <td>0.653904</td>\n",
       "    </tr>\n",
       "    <tr>\n",
       "      <th>std</th>\n",
       "      <td>310.958458</td>\n",
       "      <td>0.0</td>\n",
       "      <td>17.228215</td>\n",
       "      <td>48.672677</td>\n",
       "      <td>0.133123</td>\n",
       "      <td>0.014853</td>\n",
       "    </tr>\n",
       "    <tr>\n",
       "      <th>min</th>\n",
       "      <td>-2583.005522</td>\n",
       "      <td>500.0</td>\n",
       "      <td>730.661087</td>\n",
       "      <td>-2372.723911</td>\n",
       "      <td>-0.799800</td>\n",
       "      <td>0.633183</td>\n",
       "    </tr>\n",
       "    <tr>\n",
       "      <th>25%</th>\n",
       "      <td>-1955.848489</td>\n",
       "      <td>500.0</td>\n",
       "      <td>752.661087</td>\n",
       "      <td>-2292.132635</td>\n",
       "      <td>-0.523056</td>\n",
       "      <td>0.642128</td>\n",
       "    </tr>\n",
       "    <tr>\n",
       "      <th>50%</th>\n",
       "      <td>-1741.438423</td>\n",
       "      <td>500.0</td>\n",
       "      <td>767.661087</td>\n",
       "      <td>-2241.546930</td>\n",
       "      <td>-0.433391</td>\n",
       "      <td>0.651329</td>\n",
       "    </tr>\n",
       "    <tr>\n",
       "      <th>75%</th>\n",
       "      <td>-1519.610404</td>\n",
       "      <td>500.0</td>\n",
       "      <td>778.661087</td>\n",
       "      <td>-2214.709897</td>\n",
       "      <td>-0.341688</td>\n",
       "      <td>0.664310</td>\n",
       "    </tr>\n",
       "    <tr>\n",
       "      <th>max</th>\n",
       "      <td>-772.138585</td>\n",
       "      <td>500.0</td>\n",
       "      <td>789.661087</td>\n",
       "      <td>-2144.899806</td>\n",
       "      <td>-0.024566</td>\n",
       "      <td>0.684312</td>\n",
       "    </tr>\n",
       "  </tbody>\n",
       "</table>\n",
       "</div>"
      ],
      "text/plain": [
       "            virial  nparticles       volume       energy     pressure  \\\n",
       "count  1000.000000      1000.0  1000.000000  1000.000000  1000.000000   \n",
       "mean  -1727.093253       500.0   765.029087 -2252.996924    -0.428852   \n",
       "std     310.958458         0.0    17.228215    48.672677     0.133123   \n",
       "min   -2583.005522       500.0   730.661087 -2372.723911    -0.799800   \n",
       "25%   -1955.848489       500.0   752.661087 -2292.132635    -0.523056   \n",
       "50%   -1741.438423       500.0   767.661087 -2241.546930    -0.433391   \n",
       "75%   -1519.610404       500.0   778.661087 -2214.709897    -0.341688   \n",
       "max    -772.138585       500.0   789.661087 -2144.899806    -0.024566   \n",
       "\n",
       "           density  \n",
       "count  1000.000000  \n",
       "mean      0.653904  \n",
       "std       0.014853  \n",
       "min       0.633183  \n",
       "25%       0.642128  \n",
       "50%       0.651329  \n",
       "75%       0.664310  \n",
       "max       0.684312  "
      ]
     },
     "execution_count": 68,
     "metadata": {},
     "output_type": "execute_result"
    }
   ],
   "source": [
    "properties.describe()"
   ]
  },
  {
   "cell_type": "code",
   "execution_count": 70,
   "metadata": {},
   "outputs": [
    {
     "data": {
      "text/plain": [
       "[<matplotlib.lines.Line2D at 0x7f20abf11b80>]"
      ]
     },
     "execution_count": 70,
     "metadata": {},
     "output_type": "execute_result"
    },
    {
     "data": {
      "image/png": "[encoded data removed]",
      "text/plain": [
       "<Figure size 432x288 with 1 Axes>"
      ]
     },
     "metadata": {
      "needs_background": "light"
     },
     "output_type": "display_data"
    }
   ],
   "source": [
    "plt.plot(properties.volume)"
   ]
  },
  {
   "cell_type": "markdown",
   "metadata": {},
   "source": [
    "# $\\mu$VT Simulation"
   ]
  },
  {
   "cell_type": "code",
   "execution_count": 18,
   "metadata": {},
   "outputs": [],
   "source": [
    "density = 0.5\n",
    "nparticles = 500\n",
    "volume = nparticles / density\n",
    "temperature = 1.0\n",
    "\n",
    "potential = Potential.lennard_jones(1.0, 1.0, tail_correction=True)\n",
    "system = System.insert_particles(nparticles, volume, temperature, chemical_potential-2, 3.0, potential, nparticles + 100, 1000000)\n",
    "\n",
    "displace_particle = MCMove.displace_particle(0.1, 0.4, nparticles)\n",
    "insert_delete_particle = MCMove.insert_delete_particle(chemical_potential)\n",
    "mc = MonteCarlo([displace_particle, insert_delete_particle], [3, 1], temperature)\n",
    "\n",
    "simulation = Simulation.monte_carlo(system, mc, 500)"
   ]
  },
  {
   "cell_type": "code",
   "execution_count": 19,
   "metadata": {},
   "outputs": [
    {
     "name": "stdout",
     "output_type": "stream",
     "text": [
      "Equilibration\n",
      "Production\n",
      "CPU times: user 348 ms, sys: 3.96 ms, total: 352 ms\n",
      "Wall time: 351 ms\n"
     ]
    }
   ],
   "source": [
    "%%time\n",
    "print(\"Equilibration\")\n",
    "simulation.run(nparticles * 1000)\n",
    "\n",
    "simulation.deactivate_propagator_updates()\n",
    "props = Observer.properties(100)\n",
    "simulation.add_observer(props)\n",
    "\n",
    "print(\"Production\")\n",
    "simulation.run(nparticles * 5000)"
   ]
  },
  {
   "cell_type": "code",
   "execution_count": 20,
   "metadata": {},
   "outputs": [
    {
     "data": {
      "text/plain": [
       "[<matplotlib.lines.Line2D at 0x7fcc13f9c670>]"
      ]
     },
     "execution_count": 20,
     "metadata": {},
     "output_type": "execute_result"
    },
    {
     "data": {
      "image/png": "[encoded data removed]",
      "text/plain": [
       "<Figure size 432x288 with 1 Axes>"
      ]
     },
     "metadata": {
      "needs_background": "light"
     },
     "output_type": "display_data"
    }
   ],
   "source": [
    "properties = pd.DataFrame(props.data)\n",
    "plt.plot(properties.nparticles)"
   ]
  },
  {
   "cell_type": "code",
   "execution_count": 33,
   "metadata": {},
   "outputs": [
    {
     "data": {
      "text/plain": [
       "0        2.0\n",
       "1        1.0\n",
       "2        3.0\n",
       "3        4.0\n",
       "4        1.0\n",
       "        ... \n",
       "24995    1.0\n",
       "24996    2.0\n",
       "24997    0.0\n",
       "24998    2.0\n",
       "24999    1.0\n",
       "Name: nparticles, Length: 25000, dtype: float64"
      ]
     },
     "execution_count": 33,
     "metadata": {},
     "output_type": "execute_result"
    }
   ],
   "source": [
    "properties.nparticles"
   ]
  },
  {
   "cell_type": "code",
   "execution_count": null,
   "metadata": {},
   "outputs": [],
   "source": []
  }
 ],
 "metadata": {
  "kernelspec": {
   "display_name": "sargas",
   "language": "python",
   "name": "sargas"
  },
  "language_info": {
   "codemirror_mode": {
    "name": "ipython",
    "version": 3
   },
   "file_extension": ".py",
   "mimetype": "text/x-python",
   "name": "python",
   "nbconvert_exporter": "python",
   "pygments_lexer": "ipython3",
   "version": "3.8.1"
  }
 },
 "nbformat": 4,
 "nbformat_minor": 4
}
