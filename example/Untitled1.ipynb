{
 "cells": [
  {
   "cell_type": "code",
   "execution_count": 1,
   "metadata": {},
   "outputs": [],
   "source": [
    "import pandas as pd\n",
    "import numpy as np\n",
    "from sargas import *\n",
    "import seaborn as sns\n",
    "import matplotlib.pyplot as plt"
   ]
  },
  {
   "cell_type": "code",
   "execution_count": 7,
   "metadata": {},
   "outputs": [],
   "source": [
    "rc = 3.0\n",
    "n = 256\n",
    "rho = 0.2\n",
    "\n",
    "potential = Potential.lennard_jones(1.0, 1.0, rc, tail_correction=True, with_shift=True)\n",
    "configuration = Configuration.lattice(n, rho, initial_temperature=1.0)\n",
    "system = System(configuration, potential)\n",
    "velocity_verlet = Integrator.velocity_verlet(0.001)\n",
    "md = MolecularDynamics(velocity_verlet)\n",
    "simulation = Simulation.molecular_dynamics(system, md, n)\n",
    "props = Observer.properties(10)\n",
    "simulation.add_observer(props)"
   ]
  },
  {
   "cell_type": "code",
   "execution_count": 8,
   "metadata": {},
   "outputs": [],
   "source": [
    "simulation.run(10000)"
   ]
  },
  {
   "cell_type": "code",
   "execution_count": 9,
   "metadata": {},
   "outputs": [
    {
     "data": {
      "text/html": [
       "<div>\n",
       "<style scoped>\n",
       "    .dataframe tbody tr th:only-of-type {\n",
       "        vertical-align: middle;\n",
       "    }\n",
       "\n",
       "    .dataframe tbody tr th {\n",
       "        vertical-align: top;\n",
       "    }\n",
       "\n",
       "    .dataframe thead th {\n",
       "        text-align: right;\n",
       "    }\n",
       "</style>\n",
       "<table border=\"1\" class=\"dataframe\">\n",
       "  <thead>\n",
       "    <tr style=\"text-align: right;\">\n",
       "      <th></th>\n",
       "      <th>pressure</th>\n",
       "      <th>virial</th>\n",
       "      <th>potential_energy</th>\n",
       "      <th>density</th>\n",
       "      <th>volume</th>\n",
       "      <th>nparticles</th>\n",
       "    </tr>\n",
       "  </thead>\n",
       "  <tbody>\n",
       "    <tr>\n",
       "      <th>0</th>\n",
       "      <td>-0.223402</td>\n",
       "      <td>0.0</td>\n",
       "      <td>-285.954745</td>\n",
       "      <td>0.2</td>\n",
       "      <td>1280.0</td>\n",
       "      <td>256.0</td>\n",
       "    </tr>\n",
       "    <tr>\n",
       "      <th>1</th>\n",
       "      <td>-0.223402</td>\n",
       "      <td>0.0</td>\n",
       "      <td>-285.954745</td>\n",
       "      <td>0.2</td>\n",
       "      <td>1280.0</td>\n",
       "      <td>256.0</td>\n",
       "    </tr>\n",
       "    <tr>\n",
       "      <th>2</th>\n",
       "      <td>-0.223402</td>\n",
       "      <td>0.0</td>\n",
       "      <td>-285.954745</td>\n",
       "      <td>0.2</td>\n",
       "      <td>1280.0</td>\n",
       "      <td>256.0</td>\n",
       "    </tr>\n",
       "    <tr>\n",
       "      <th>3</th>\n",
       "      <td>-0.223402</td>\n",
       "      <td>0.0</td>\n",
       "      <td>-285.954745</td>\n",
       "      <td>0.2</td>\n",
       "      <td>1280.0</td>\n",
       "      <td>256.0</td>\n",
       "    </tr>\n",
       "    <tr>\n",
       "      <th>4</th>\n",
       "      <td>-0.223402</td>\n",
       "      <td>0.0</td>\n",
       "      <td>-285.954745</td>\n",
       "      <td>0.2</td>\n",
       "      <td>1280.0</td>\n",
       "      <td>256.0</td>\n",
       "    </tr>\n",
       "  </tbody>\n",
       "</table>\n",
       "</div>"
      ],
      "text/plain": [
       "   pressure  virial  potential_energy  density  volume  nparticles\n",
       "0 -0.223402     0.0       -285.954745      0.2  1280.0       256.0\n",
       "1 -0.223402     0.0       -285.954745      0.2  1280.0       256.0\n",
       "2 -0.223402     0.0       -285.954745      0.2  1280.0       256.0\n",
       "3 -0.223402     0.0       -285.954745      0.2  1280.0       256.0\n",
       "4 -0.223402     0.0       -285.954745      0.2  1280.0       256.0"
      ]
     },
     "execution_count": 9,
     "metadata": {},
     "output_type": "execute_result"
    }
   ],
   "source": [
    "results = pd.DataFrame(props.data)\n",
    "results.head()"
   ]
  },
  {
   "cell_type": "code",
   "execution_count": 10,
   "metadata": {},
   "outputs": [
    {
     "data": {
      "text/plain": [
       "[<matplotlib.lines.Line2D at 0x7f27ad709460>]"
      ]
     },
     "execution_count": 10,
     "metadata": {},
     "output_type": "execute_result"
    },
    {
     "data": {
      "image/png": "[encoded data removed]",
      "text/plain": [
       "<Figure size 432x288 with 1 Axes>"
      ]
     },
     "metadata": {
      "needs_background": "light"
     },
     "output_type": "display_data"
    }
   ],
   "source": [
    "plt.plot(results.index, results.potential_energy)"
   ]
  },
  {
   "cell_type": "code",
   "execution_count": null,
   "metadata": {},
   "outputs": [],
   "source": []
  }
 ],
 "metadata": {
  "kernelspec": {
   "display_name": "sargas",
   "language": "python",
   "name": "sargas"
  },
  "language_info": {
   "codemirror_mode": {
    "name": "ipython",
    "version": 3
   },
   "file_extension": ".py",
   "mimetype": "text/x-python",
   "name": "python",
   "nbconvert_exporter": "python",
   "pygments_lexer": "ipython3",
   "version": "3.8.1"
  }
 },
 "nbformat": 4,
 "nbformat_minor": 4
}
