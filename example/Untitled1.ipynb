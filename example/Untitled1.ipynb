{
 "cells": [
  {
   "cell_type": "code",
   "execution_count": 1,
   "metadata": {},
   "outputs": [],
   "source": [
    "import pandas as pd\n",
    "import numpy as np\n",
    "from sargas import *\n",
    "import seaborn as sns\n",
    "import matplotlib.pyplot as plt"
   ]
  },
  {
   "cell_type": "code",
   "execution_count": 15,
   "metadata": {},
   "outputs": [],
   "source": [
    "rc = 3.0\n",
    "n = 500\n",
    "rho = 0.9\n",
    "dt = 0.005\n",
    "f = 20\n",
    "t_init = 0.851\n",
    "\n",
    "potential = Potential.lennard_jones(1.0, 1.0, rc, True)\n",
    "system = System(Configuration.lattice(n, rho, initial_temperature=t_init), potential)\n",
    "velocity_verlet = Integrator.velocity_verlet(dt)\n",
    "#md = MolecularDynamics(velocity_verlet, Thermostat.velocity_rescaling(t_init))\n",
    "md = MolecularDynamics(velocity_verlet, Thermostat.andersen(t_init, dt, 100))\n",
    "simulation = Simulation.molecular_dynamics(system, md, 1)\n",
    "simulation.run(10_000)"
   ]
  },
  {
   "cell_type": "code",
   "execution_count": 16,
   "metadata": {},
   "outputs": [],
   "source": [
    "props = Observer.properties(f)\n",
    "simulation.add_observer(props)\n",
    "simulation.run(20_000)"
   ]
  },
  {
   "cell_type": "code",
   "execution_count": 17,
   "metadata": {},
   "outputs": [
    {
     "name": "stdout",
     "output_type": "stream",
     "text": [
      "CPU times: user 4.36 s, sys: 122 µs, total: 4.36 s\n",
      "Wall time: 4.35 s\n"
     ]
    }
   ],
   "source": [
    "%%time\n",
    "simulation.run(5_000)"
   ]
  },
  {
   "cell_type": "code",
   "execution_count": 18,
   "metadata": {},
   "outputs": [
    {
     "data": {
      "text/html": [
       "<div>\n",
       "<style scoped>\n",
       "    .dataframe tbody tr th:only-of-type {\n",
       "        vertical-align: middle;\n",
       "    }\n",
       "\n",
       "    .dataframe tbody tr th {\n",
       "        vertical-align: top;\n",
       "    }\n",
       "\n",
       "    .dataframe thead th {\n",
       "        text-align: right;\n",
       "    }\n",
       "</style>\n",
       "<table border=\"1\" class=\"dataframe\">\n",
       "  <thead>\n",
       "    <tr style=\"text-align: right;\">\n",
       "      <th></th>\n",
       "      <th>virial</th>\n",
       "      <th>kinetic_energy</th>\n",
       "      <th>pressure</th>\n",
       "      <th>total_energy</th>\n",
       "      <th>potential_energy</th>\n",
       "      <th>time</th>\n",
       "      <th>temperature</th>\n",
       "    </tr>\n",
       "  </thead>\n",
       "  <tbody>\n",
       "    <tr>\n",
       "      <th>0</th>\n",
       "      <td>2809.396018</td>\n",
       "      <td>662.496364</td>\n",
       "      <td>1.183442</td>\n",
       "      <td>-2481.223256</td>\n",
       "      <td>-3143.719620</td>\n",
       "      <td>0.0</td>\n",
       "      <td>0.883328</td>\n",
       "    </tr>\n",
       "    <tr>\n",
       "      <th>1</th>\n",
       "      <td>3431.626177</td>\n",
       "      <td>629.446342</td>\n",
       "      <td>1.556781</td>\n",
       "      <td>-2475.679420</td>\n",
       "      <td>-3105.125762</td>\n",
       "      <td>0.1</td>\n",
       "      <td>0.839262</td>\n",
       "    </tr>\n",
       "    <tr>\n",
       "      <th>2</th>\n",
       "      <td>3465.941062</td>\n",
       "      <td>659.425358</td>\n",
       "      <td>1.577369</td>\n",
       "      <td>-2443.956882</td>\n",
       "      <td>-3103.382240</td>\n",
       "      <td>0.2</td>\n",
       "      <td>0.879234</td>\n",
       "    </tr>\n",
       "    <tr>\n",
       "      <th>3</th>\n",
       "      <td>3608.389841</td>\n",
       "      <td>641.913189</td>\n",
       "      <td>1.662839</td>\n",
       "      <td>-2453.307726</td>\n",
       "      <td>-3095.220915</td>\n",
       "      <td>0.3</td>\n",
       "      <td>0.855884</td>\n",
       "    </tr>\n",
       "    <tr>\n",
       "      <th>4</th>\n",
       "      <td>3835.404963</td>\n",
       "      <td>624.347554</td>\n",
       "      <td>1.799048</td>\n",
       "      <td>-2458.491533</td>\n",
       "      <td>-3082.839088</td>\n",
       "      <td>0.4</td>\n",
       "      <td>0.832463</td>\n",
       "    </tr>\n",
       "  </tbody>\n",
       "</table>\n",
       "</div>"
      ],
      "text/plain": [
       "        virial  kinetic_energy  pressure  total_energy  potential_energy  \\\n",
       "0  2809.396018      662.496364  1.183442  -2481.223256      -3143.719620   \n",
       "1  3431.626177      629.446342  1.556781  -2475.679420      -3105.125762   \n",
       "2  3465.941062      659.425358  1.577369  -2443.956882      -3103.382240   \n",
       "3  3608.389841      641.913189  1.662839  -2453.307726      -3095.220915   \n",
       "4  3835.404963      624.347554  1.799048  -2458.491533      -3082.839088   \n",
       "\n",
       "   time  temperature  \n",
       "0   0.0     0.883328  \n",
       "1   0.1     0.839262  \n",
       "2   0.2     0.879234  \n",
       "3   0.3     0.855884  \n",
       "4   0.4     0.832463  "
      ]
     },
     "execution_count": 18,
     "metadata": {},
     "output_type": "execute_result"
    }
   ],
   "source": [
    "results = pd.DataFrame(props.data)\n",
    "results['time'] = results.index * dt * f\n",
    "results['temperature'] = 2 / 3 * results.kinetic_energy / 500\n",
    "results.head()"
   ]
  },
  {
   "cell_type": "code",
   "execution_count": 19,
   "metadata": {},
   "outputs": [
    {
     "data": {
      "text/plain": [
       "<matplotlib.collections.LineCollection at 0x7f541732ac70>"
      ]
     },
     "execution_count": 19,
     "metadata": {},
     "output_type": "execute_result"
    },
    {
     "data": {
      "image/png": "[encoded data removed]",
      "text/plain": [
       "<Figure size 432x288 with 1 Axes>"
      ]
     },
     "metadata": {
      "needs_background": "light"
     },
     "output_type": "display_data"
    }
   ],
   "source": [
    "plt.plot(results.time, results.temperature)\n",
    "plt.hlines(t_init, 0, 120, \"k\")"
   ]
  },
  {
   "cell_type": "code",
   "execution_count": 20,
   "metadata": {},
   "outputs": [
    {
     "data": {
      "text/plain": [
       "[<matplotlib.lines.Line2D at 0x7f541731ac70>]"
      ]
     },
     "execution_count": 20,
     "metadata": {},
     "output_type": "execute_result"
    },
    {
     "data": {
      "image/png": "[encoded data removed]",
      "text/plain": [
       "<Figure size 432x288 with 1 Axes>"
      ]
     },
     "metadata": {
      "needs_background": "light"
     },
     "output_type": "display_data"
    }
   ],
   "source": [
    "plt.plot(results.time, results.potential_energy)\n",
    "plt.plot(results.time, results.kinetic_energy)\n",
    "plt.plot(results.time, results.total_energy)\n",
    "#plt.xlim(100, 200)"
   ]
  },
  {
   "cell_type": "code",
   "execution_count": 29,
   "metadata": {},
   "outputs": [
    {
     "data": {
      "text/plain": [
       "-4.951158568621746"
      ]
     },
     "execution_count": 29,
     "metadata": {},
     "output_type": "execute_result"
    }
   ],
   "source": [
    "results.total_energy.values[::10].mean() / 500"
   ]
  },
  {
   "cell_type": "code",
   "execution_count": 30,
   "metadata": {},
   "outputs": [
    {
     "data": {
      "text/plain": [
       "1.2789860120553984"
      ]
     },
     "execution_count": 30,
     "metadata": {},
     "output_type": "execute_result"
    }
   ],
   "source": [
    "results.kinetic_energy.values[::10].mean() / 500"
   ]
  },
  {
   "cell_type": "code",
   "execution_count": 31,
   "metadata": {},
   "outputs": [
    {
     "data": {
      "text/plain": [
       "-6.230144580677145"
      ]
     },
     "execution_count": 31,
     "metadata": {},
     "output_type": "execute_result"
    }
   ],
   "source": [
    "results.potential_energy.values[::10].mean() / 500"
   ]
  },
  {
   "cell_type": "code",
   "execution_count": 13,
   "metadata": {},
   "outputs": [
    {
     "data": {
      "text/plain": [
       "3.23294118790949"
      ]
     },
     "execution_count": 13,
     "metadata": {},
     "output_type": "execute_result"
    }
   ],
   "source": [
    "results.pressure.values[::10].mean() + rho * t_init"
   ]
  }
 ],
 "metadata": {
  "kernelspec": {
   "display_name": "sargas",
   "language": "python",
   "name": "sargas"
  },
  "language_info": {
   "codemirror_mode": {
    "name": "ipython",
    "version": 3
   },
   "file_extension": ".py",
   "mimetype": "text/x-python",
   "name": "python",
   "nbconvert_exporter": "python",
   "pygments_lexer": "ipython3",
   "version": "3.8.6"
  }
 },
 "nbformat": 4,
 "nbformat_minor": 4
}
