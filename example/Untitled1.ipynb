{
 "cells": [
  {
   "cell_type": "code",
   "execution_count": 17,
   "metadata": {},
   "outputs": [],
   "source": [
    "import pandas as pd\n",
    "import numpy as np\n",
    "from sargas import *\n",
    "import seaborn as sns\n",
    "import matplotlib.pyplot as plt"
   ]
  },
  {
   "cell_type": "code",
   "execution_count": 24,
   "metadata": {},
   "outputs": [],
   "source": [
    "rc = 3.0\n",
    "n = 500\n",
    "rho = 0.9\n",
    "dt = 0.005\n",
    "f = 20\n",
    "t_init = 0.851\n",
    "\n",
    "potential = Potential.lennard_jones(1.0, 1.0, rc, True)\n",
    "system = System(Configuration.lattice(n, rho, initial_temperature=t_init), potential)\n",
    "velocity_verlet = Integrator.velocity_verlet(dt)\n",
    "md = MolecularDynamics(velocity_verlet, Thermostat.velocity_rescaling(t_init))\n",
    "simulation = Simulation.molecular_dynamics(system, md, 1000)\n",
    "simulation.run(10_000)"
   ]
  },
  {
   "cell_type": "code",
   "execution_count": 25,
   "metadata": {},
   "outputs": [],
   "source": [
    "props = Observer.properties(f)\n",
    "simulation.add_observer(props)\n",
    "simulation.run(20_000)"
   ]
  },
  {
   "cell_type": "code",
   "execution_count": 26,
   "metadata": {},
   "outputs": [
    {
     "name": "stdout",
     "output_type": "stream",
     "text": [
      "CPU times: user 5.27 s, sys: 0 ns, total: 5.27 s\n",
      "Wall time: 5.26 s\n"
     ]
    }
   ],
   "source": [
    "%%time\n",
    "simulation.run(5_000)"
   ]
  },
  {
   "cell_type": "code",
   "execution_count": 27,
   "metadata": {},
   "outputs": [
    {
     "data": {
      "text/html": [
       "<div>\n",
       "<style scoped>\n",
       "    .dataframe tbody tr th:only-of-type {\n",
       "        vertical-align: middle;\n",
       "    }\n",
       "\n",
       "    .dataframe tbody tr th {\n",
       "        vertical-align: top;\n",
       "    }\n",
       "\n",
       "    .dataframe thead th {\n",
       "        text-align: right;\n",
       "    }\n",
       "</style>\n",
       "<table border=\"1\" class=\"dataframe\">\n",
       "  <thead>\n",
       "    <tr style=\"text-align: right;\">\n",
       "      <th></th>\n",
       "      <th>pressure</th>\n",
       "      <th>potential_energy</th>\n",
       "      <th>virial</th>\n",
       "      <th>kinetic_energy</th>\n",
       "      <th>total_energy</th>\n",
       "      <th>time</th>\n",
       "      <th>temperature</th>\n",
       "    </tr>\n",
       "  </thead>\n",
       "  <tbody>\n",
       "    <tr>\n",
       "      <th>0</th>\n",
       "      <td>1.337705</td>\n",
       "      <td>-3133.270313</td>\n",
       "      <td>3066.500494</td>\n",
       "      <td>665.160286</td>\n",
       "      <td>-2468.110026</td>\n",
       "      <td>0.0</td>\n",
       "      <td>0.886880</td>\n",
       "    </tr>\n",
       "    <tr>\n",
       "      <th>1</th>\n",
       "      <td>1.571923</td>\n",
       "      <td>-3108.343243</td>\n",
       "      <td>3456.863239</td>\n",
       "      <td>640.157862</td>\n",
       "      <td>-2468.185381</td>\n",
       "      <td>0.1</td>\n",
       "      <td>0.853544</td>\n",
       "    </tr>\n",
       "    <tr>\n",
       "      <th>2</th>\n",
       "      <td>1.681016</td>\n",
       "      <td>-3103.905858</td>\n",
       "      <td>3638.685641</td>\n",
       "      <td>635.603152</td>\n",
       "      <td>-2468.302706</td>\n",
       "      <td>0.2</td>\n",
       "      <td>0.847471</td>\n",
       "    </tr>\n",
       "    <tr>\n",
       "      <th>3</th>\n",
       "      <td>1.395389</td>\n",
       "      <td>-3131.236099</td>\n",
       "      <td>3162.639607</td>\n",
       "      <td>662.815419</td>\n",
       "      <td>-2468.420680</td>\n",
       "      <td>0.3</td>\n",
       "      <td>0.883754</td>\n",
       "    </tr>\n",
       "    <tr>\n",
       "      <th>4</th>\n",
       "      <td>1.692318</td>\n",
       "      <td>-3096.791190</td>\n",
       "      <td>3657.522601</td>\n",
       "      <td>628.651847</td>\n",
       "      <td>-2468.139344</td>\n",
       "      <td>0.4</td>\n",
       "      <td>0.838202</td>\n",
       "    </tr>\n",
       "  </tbody>\n",
       "</table>\n",
       "</div>"
      ],
      "text/plain": [
       "   pressure  potential_energy       virial  kinetic_energy  total_energy  \\\n",
       "0  1.337705      -3133.270313  3066.500494      665.160286  -2468.110026   \n",
       "1  1.571923      -3108.343243  3456.863239      640.157862  -2468.185381   \n",
       "2  1.681016      -3103.905858  3638.685641      635.603152  -2468.302706   \n",
       "3  1.395389      -3131.236099  3162.639607      662.815419  -2468.420680   \n",
       "4  1.692318      -3096.791190  3657.522601      628.651847  -2468.139344   \n",
       "\n",
       "   time  temperature  \n",
       "0   0.0     0.886880  \n",
       "1   0.1     0.853544  \n",
       "2   0.2     0.847471  \n",
       "3   0.3     0.883754  \n",
       "4   0.4     0.838202  "
      ]
     },
     "execution_count": 27,
     "metadata": {},
     "output_type": "execute_result"
    }
   ],
   "source": [
    "results = pd.DataFrame(props.data)\n",
    "results['time'] = results.index * dt * f\n",
    "results['temperature'] = 2 / 3 * results.kinetic_energy / 500\n",
    "results.head()"
   ]
  },
  {
   "cell_type": "code",
   "execution_count": 28,
   "metadata": {},
   "outputs": [
    {
     "data": {
      "text/plain": [
       "[<matplotlib.lines.Line2D at 0x7fa40e9f9eb0>]"
      ]
     },
     "execution_count": 28,
     "metadata": {},
     "output_type": "execute_result"
    },
    {
     "data": {
      "image/png": "[encoded data removed]",
      "text/plain": [
       "<Figure size 432x288 with 1 Axes>"
      ]
     },
     "metadata": {
      "needs_background": "light"
     },
     "output_type": "display_data"
    }
   ],
   "source": [
    "plt.plot(results.time, results.potential_energy)\n",
    "plt.plot(results.time, results.kinetic_energy)\n",
    "plt.plot(results.time, results.total_energy)\n",
    "#plt.xlim(100, 200)"
   ]
  },
  {
   "cell_type": "code",
   "execution_count": 29,
   "metadata": {},
   "outputs": [
    {
     "data": {
      "text/plain": [
       "-4.951158568621746"
      ]
     },
     "execution_count": 29,
     "metadata": {},
     "output_type": "execute_result"
    }
   ],
   "source": [
    "results.total_energy.values[::10].mean() / 500"
   ]
  },
  {
   "cell_type": "code",
   "execution_count": 30,
   "metadata": {},
   "outputs": [
    {
     "data": {
      "text/plain": [
       "1.2789860120553984"
      ]
     },
     "execution_count": 30,
     "metadata": {},
     "output_type": "execute_result"
    }
   ],
   "source": [
    "results.kinetic_energy.values[::10].mean() / 500"
   ]
  },
  {
   "cell_type": "code",
   "execution_count": 31,
   "metadata": {},
   "outputs": [
    {
     "data": {
      "text/plain": [
       "-6.230144580677145"
      ]
     },
     "execution_count": 31,
     "metadata": {},
     "output_type": "execute_result"
    }
   ],
   "source": [
    "results.potential_energy.values[::10].mean() / 500"
   ]
  },
  {
   "cell_type": "code",
   "execution_count": 13,
   "metadata": {},
   "outputs": [
    {
     "data": {
      "text/plain": [
       "3.23294118790949"
      ]
     },
     "execution_count": 13,
     "metadata": {},
     "output_type": "execute_result"
    }
   ],
   "source": [
    "results.pressure.values[::10].mean() + rho * t_init"
   ]
  }
 ],
 "metadata": {
  "kernelspec": {
   "display_name": "sargas",
   "language": "python",
   "name": "sargas"
  },
  "language_info": {
   "codemirror_mode": {
    "name": "ipython",
    "version": 3
   },
   "file_extension": ".py",
   "mimetype": "text/x-python",
   "name": "python",
   "nbconvert_exporter": "python",
   "pygments_lexer": "ipython3",
   "version": "3.8.6"
  }
 },
 "nbformat": 4,
 "nbformat_minor": 4
}
