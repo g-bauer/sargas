{
 "cells": [
  {
   "cell_type": "code",
   "execution_count": 1,
   "metadata": {},
   "outputs": [],
   "source": [
    "import pandas as pd\n",
    "import numpy as np\n",
    "from sargas import *\n",
    "import matplotlib.pyplot as plt\n",
    "from multiprocessing import Pool\n",
    "%matplotlib inline"
   ]
  },
  {
   "cell_type": "markdown",
   "metadata": {},
   "source": [
    "# $\\mu$VT"
   ]
  },
  {
   "cell_type": "code",
   "execution_count": 3,
   "metadata": {},
   "outputs": [],
   "source": [
    "# Helper functions to build and run simulations\n",
    "\n",
    "def build_muvt(mu, v, t, maximum_nparticles, rc, tail_correction):\n",
    "    potential = Potential.lennard_jones(1.0, 1.0, rc, tail_correction=True)\n",
    "    configuration = Configuration.from_lattice(maximum_nparticles, maximum_nparticles / v)\n",
    "    system = System(configuration, potential)\n",
    "    displace_particle = MCMove.displace_particle(0.1, 0.4, t)\n",
    "    insert_delete_particle = MCMove.insert_delete_particle(mu, t)\n",
    "    \n",
    "    mc = MonteCarlo([displace_particle, insert_delete_particle], [0.7, 0.3], t)\n",
    "    simulation = Simulation.monte_carlo(system, mc, n)\n",
    "    return simulation, system\n",
    "\n",
    "def run_tp(t, p):\n",
    "    nparticles = 500\n",
    "    initial_density = 8e-1\n",
    "    rc = 3.0\n",
    "    tail_correction = True\n",
    "    sim, sys = build_npt(500, p, t, initial_density, rc, True)\n",
    "    properties = run_simulation(sim, 500*5000, 500*50000)\n",
    "    return t, p, properties\n",
    "\n",
    "def build_nvt(n, rho, t, rc, tail_correction):\n",
    "    potential = Potential.lennard_jones(1.0, 1.0, rc, tail_correction=True)\n",
    "    configuration = Configuration.from_lattice(n, rho)\n",
    "    system = System(configuration, potential)\n",
    "    displace_particle = MCMove.displace_particle(0.1, 0.4, t)\n",
    "    mc = MonteCarlo([displace_particle], [1], t)\n",
    "    simulation = Simulation.monte_carlo(system, mc, n)\n",
    "    return simulation, system\n",
    "\n",
    "def run_simulation(simulation, equilibration, production):\n",
    "    simulation.run(equilibration)\n",
    "    simulation.deactivate_propagator_updates()\n",
    "    \n",
    "    properties = Observer.properties(1000)\n",
    "    simulation.add_observer(properties)\n",
    "    \n",
    "    widom = Observer.widom_insertion(100)\n",
    "    simulation.add_observer(widom)\n",
    "    \n",
    "    simulation.run(production)\n",
    "    return pd.DataFrame(properties.data), widom"
   ]
  },
  {
   "cell_type": "code",
   "execution_count": 4,
   "metadata": {},
   "outputs": [],
   "source": [
    "nparticles = 500\n",
    "density = 8e-1\n",
    "volume = nparticles / density\n",
    "rc = 3.0\n",
    "tail_correction = True"
   ]
  },
  {
   "cell_type": "code",
   "execution_count": 5,
   "metadata": {},
   "outputs": [
    {
     "name": "stdout",
     "output_type": "stream",
     "text": [
      "CPU times: user 7min 50s, sys: 552 ms, total: 7min 50s\n",
      "Wall time: 10min 4s\n"
     ]
    }
   ],
   "source": [
    "%%time\n",
    "t1 = 8e-1\n",
    "sim1, sys1 = build_nvt(500, 8e-1, t1, rc, True)\n",
    "props1, widom1 = run_simulation(sim1, 500*5000, 500*50000)"
   ]
  },
  {
   "cell_type": "code",
   "execution_count": 8,
   "metadata": {},
   "outputs": [],
   "source": [
    "mu = pd.DataFrame(widom1.data)"
   ]
  },
  {
   "cell_type": "code",
   "execution_count": 9,
   "metadata": {},
   "outputs": [],
   "source": [
    "from scipy.special import logsumexp"
   ]
  },
  {
   "cell_type": "code",
   "execution_count": 18,
   "metadata": {},
   "outputs": [
    {
     "data": {
      "text/plain": [
       "5.157882408943588"
      ]
     },
     "execution_count": 18,
     "metadata": {},
     "output_type": "execute_result"
    }
   ],
   "source": [
    "(logsumexp(-mu/t1) - np.log(len(mu))) / t1"
   ]
  },
  {
   "cell_type": "code",
   "execution_count": 15,
   "metadata": {},
   "outputs": [
    {
     "data": {
      "text/plain": [
       "mu    4.878953\n",
       "dtype: float64"
      ]
     },
     "execution_count": 15,
     "metadata": {},
     "output_type": "execute_result"
    }
   ],
   "source": [
    "np.log(8e-1 * np.mean(np.exp(-mu/t1))) / t1"
   ]
  },
  {
   "cell_type": "code",
   "execution_count": 78,
   "metadata": {},
   "outputs": [
    {
     "name": "stdout",
     "output_type": "stream",
     "text": [
      "CPU times: user 8.99 ms, sys: 96 ms, total: 105 ms\n",
      "Wall time: 5min 47s\n"
     ]
    }
   ],
   "source": [
    "%%time\n",
    "states = [\n",
    "    (8e-1, 8e-1),\n",
    "    (8.5e-1, 8e-1)\n",
    "]\n",
    "\n",
    "with Pool() as pool:\n",
    "    res = pool.starmap(run_tp, states)"
   ]
  },
  {
   "cell_type": "code",
   "execution_count": 49,
   "metadata": {},
   "outputs": [],
   "source": [
    "t1 = 9e-1\n",
    "p1 = 8e-1\n",
    "props1 = res[0]\n",
    "\n",
    "t2 = 9e-1\n",
    "p2 = 1.2\n",
    "props2 = res[1]"
   ]
  },
  {
   "cell_type": "code",
   "execution_count": 79,
   "metadata": {},
   "outputs": [
    {
     "data": {
      "text/plain": [
       "[<matplotlib.lines.Line2D at 0x7f39ecf3b430>]"
      ]
     },
     "execution_count": 79,
     "metadata": {},
     "output_type": "execute_result"
    },
    {
     "data": {
      "image/png": "[encoded data removed]",
      "text/plain": [
       "<Figure size 432x288 with 1 Axes>"
      ]
     },
     "metadata": {
      "needs_background": "light"
     },
     "output_type": "display_data"
    }
   ],
   "source": [
    "plt.plot(res[0][2].volume)\n",
    "plt.plot(res[1][2].volume)"
   ]
  },
  {
   "cell_type": "markdown",
   "metadata": {},
   "source": [
    "# Physical Validation"
   ]
  },
  {
   "cell_type": "code",
   "execution_count": 50,
   "metadata": {},
   "outputs": [],
   "source": [
    "import physical_validation as pv"
   ]
  },
  {
   "cell_type": "code",
   "execution_count": 80,
   "metadata": {},
   "outputs": [],
   "source": [
    "units = pv.data.UnitData(\n",
    "    kb=1.0,\n",
    "    energy_str='eps',\n",
    "    energy_conversion=1.0,\n",
    "    length_str='sigma',\n",
    "    length_conversion=1.0,\n",
    "    volume_str='sigma3',\n",
    "    volume_conversion=1.0,\n",
    "    temperature_str='T*',\n",
    "    temperature_conversion=1.0,\n",
    "    pressure_str='p*',\n",
    "    pressure_conversion=1.0,\n",
    "    time_str='t*',\n",
    "    time_conversion=1.0\n",
    ")\n",
    "\n",
    "def simulation_data(t, p, data):\n",
    "    nparticles = data.nparticles.values[0]\n",
    "    sd = pv.data.SimulationData()\n",
    "    sd.system = pv.data.SystemData(natoms=nparticles)\n",
    "    sd.units = units\n",
    "    sd.ensemble = pv.data.EnsembleData(\n",
    "        ensemble=\"NPT\",\n",
    "        natoms=nparticles,\n",
    "        pressure=p,\n",
    "        temperature=t\n",
    "    )\n",
    "    sd.observables = pv.data.ObservableData(\n",
    "        potential_energy=data.energy,\n",
    "        volume=data.volume\n",
    "    )\n",
    "    return sd"
   ]
  },
  {
   "cell_type": "code",
   "execution_count": 81,
   "metadata": {},
   "outputs": [],
   "source": [
    "sd = list(map(lambda x: simulation_data(*x), res))"
   ]
  },
  {
   "cell_type": "code",
   "execution_count": 82,
   "metadata": {},
   "outputs": [
    {
     "name": "stdout",
     "output_type": "stream",
     "text": [
      "After equilibration, decorrelation and tail pruning, 0.72% (179 frames) of original Trajectory 1 remain.\n",
      "After equilibration, decorrelation and tail pruning, 1.24% (310 frames) of original Trajectory 2 remain.\n",
      "Overlap is 55.9% of trajectory 1 and 51.6% of trajectory 2.\n",
      "Rule of thumb estimates that dT = 0.1 would be optimal (currently, dT = 0.0)\n",
      "==================================================\n",
      "Maximum Likelihood Analysis (analytical error)\n",
      "==================================================\n",
      "Free energy\n",
      "    229.43313 +/- 33.51373\n",
      "Estimated slope                  |  True slope\n",
      "    0.073073  +/- 0.010690       |  0.073529 \n",
      "    (0.04 quantiles from true slope)\n",
      "Estimated dT                     |  True dT\n",
      "    0.0    +/- 0.0               |  0.0   \n",
      "==================================================\n"
     ]
    },
    {
     "name": "stderr",
     "output_type": "stream",
     "text": [
      "/usr/ITT/bauer/PhD/Code/sargas/sargas_venv/lib/python3.8/site-packages/physical_validation/util/plot.py:147: UserWarning: Matplotlib is currently using module://matplotlib_inline.backend_inline, which is a non-GUI backend, so cannot show the figure.\n",
      "  fig.show()\n"
     ]
    },
    {
     "data": {
      "text/plain": [
       "[0.042709160277769824]"
      ]
     },
     "execution_count": 82,
     "metadata": {},
     "output_type": "execute_result"
    },
    {
     "data": {
      "image/png": "[encoded data removed]",
      "text/plain": [
       "<Figure size 432x288 with 1 Axes>"
      ]
     },
     "metadata": {
      "needs_background": "light"
     },
     "output_type": "display_data"
    }
   ],
   "source": [
    "pv.ensemble.check(\n",
    "    data_sim_one=sd[0],\n",
    "    data_sim_two=sd[1],\n",
    "    screen=True\n",
    ")"
   ]
  },
  {
   "cell_type": "code",
   "execution_count": null,
   "metadata": {},
   "outputs": [],
   "source": []
  }
 ],
 "metadata": {
  "kernelspec": {
   "display_name": "sargas",
   "language": "python",
   "name": "sargas"
  },
  "language_info": {
   "codemirror_mode": {
    "name": "ipython",
    "version": 3
   },
   "file_extension": ".py",
   "mimetype": "text/x-python",
   "name": "python",
   "nbconvert_exporter": "python",
   "pygments_lexer": "ipython3",
   "version": "3.8.1"
  }
 },
 "nbformat": 4,
 "nbformat_minor": 4
}
