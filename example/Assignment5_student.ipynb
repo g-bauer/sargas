{
 "cells": [
  {
   "cell_type": "code",
   "execution_count": null,
   "metadata": {},
   "outputs": [],
   "source": [
    "import numpy as np\n",
    "import pandas as pd\n",
    "import seaborn as sns\n",
    "from sargas import *\n",
    "import tqdm\n",
    "import matplotlib.pyplot as plt\n",
    "from multiprocessing import Pool\n",
    "import glob\n",
    "import re\n",
    "from collections import namedtuple\n",
    "from scipy.stats import gamma, maxwell, norm\n",
    "\n",
    "import warnings\n",
    "warnings.filterwarnings('ignore')\n",
    "\n",
    "sns.set_palette(\"Dark2\")\n",
    "sns.set_style(\"ticks\")\n",
    "sns.set_context(\"talk\")"
   ]
  },
  {
   "cell_type": "code",
   "execution_count": null,
   "metadata": {},
   "outputs": [],
   "source": [
    "State = namedtuple(\"State\", [\"nparticles\", \"temperature\", \"density\"])\n",
    "SimulationParameters = namedtuple(\"SimulationParameters\", [\"dt\", \"nequilibration\", \"nproduction\"], defaults=(0.01, 10_000, 100_000))\n",
    "SamplingParameters = namedtuple(\"SamplingParameters\", [\"nsample\", \"ntrajectory\", \"filename\"], defaults=(100, 500, \"trajectory.xtc\"))\n",
    "\n",
    "def nvt(state, rc, potential, thermostat=None, thermostat_frequency=None, simulation_parameters=SimulationParameters(), sampling_parameters=SamplingParameters()):\n",
    "    integrator = Integrator.velocity_verlet(simulation_parameters.dt)\n",
    "    configuration = Configuration.lattice(state.nparticles, state.density, initial_temperature=state.temperature)\n",
    "    system = System(configuration, potential)\n",
    "    propagator = MolecularDynamics(integrator, thermostat)\n",
    "    simulation = Simulation.molecular_dynamics(system, propagator, thermostat_frequency=thermostat_frequency)\n",
    "\n",
    "    # Equilibration\n",
    "    eq_steps = simulation_parameters.nequilibration // 100\n",
    "    for _ in tqdm.tqdm(range(100), desc=\"Equilibration\"):\n",
    "        simulation.run(eq_steps)\n",
    "    \n",
    "    # Add sampler\n",
    "    props = Sampler.properties(sampling_parameters.nsample)\n",
    "    trj = Sampler.trajectory(sampling_parameters.filename, sampling_parameters.ntrajectory)\n",
    "    simulation.add_sampler(props)\n",
    "    simulation.add_sampler(trj)\n",
    "    # Production\n",
    "    prod_steps = simulation_parameters.nproduction // 100\n",
    "    for _ in tqdm.tqdm(range(100), desc=\"Production   \"):\n",
    "        simulation.run(prod_steps)\n",
    "    \n",
    "    data = pd.DataFrame(props.data)\n",
    "    data[\"time\"] = simulation_parameters.dt * data.index * sampling_parameters.nsample\n",
    "    return data\n",
    "\n",
    "def gr(g, r):\n",
    "    result = []\n",
    "    for i in range(len(g)):\n",
    "        if i == 0:\n",
    "            result.append(0)\n",
    "            continue\n",
    "        rr = r[:i]\n",
    "        x = rr / (2.0 * rr[-1])\n",
    "        w = 4 * np.pi * rr**2 * (1 - 3 / 2 * x + x**3 / 2)\n",
    "        integrant = (g[:i] - 1) * w\n",
    "        result.append(trapezoid(integrant, rr))\n",
    "    return np.array(result)\n",
    "\n",
    "def gr_tilde(g, r):\n",
    "    integrant = (g - 1) * 4 * np.pi * r**2\n",
    "    return cumulative_trapezoid(integrant, r, initial=0)"
   ]
  },
  {
   "cell_type": "markdown",
   "metadata": {},
   "source": [
    "# Assignment 5: The pair correlation function\n",
    "\n",
    "The pair correlation function appears in the probability density of particle 1 being at position $\\mathbf{r}_1$ with particle 2 being at position $\\mathbf{r}_2$ at the same time, $\\rho^{(2)}(\\mathbf{r}_1, \\mathbf{r}_1)$.\n",
    "\n",
    "\\begin{align}\n",
    "    \\rho^{(2)}(\\mathbf{r}_1, \\mathbf{r}_1) = \\rho^{(1)}(\\mathbf{r}_1) \\rho^{(1)}(\\mathbf{r}_2) g(\\mathbf{r}_1, \\mathbf{r}_2)\n",
    "\\end{align}\n",
    "\n",
    "$g(\\mathbf{r}_1, \\mathbf{r}_2)$ is the pair correlation function. It is a measure for the correlation between the two single particle probability densities $\\rho^{(1)}(\\mathbf{r}_1)$ and $\\rho^{(1)}(\\mathbf{r}_2)$.\n",
    "\n",
    "It is one of the most interesting properties of a fluid in equilibrium. It can be obtained experimentally by neutron and X-ray scattering on simple fluids. The pair correlation function is of key importance in fluid theories, as it contains a large amount of thermodynamic information.\n",
    "\n",
    "$g(r)$ can be directly calculated in a molecular simulation. It is simply the average density at a distance $r$ from any atom, normalized by the correlation function of an ideal gas with the same overall density. As it is an equilibrium property, it should not change during the simulation and be only dependent on the thermodynamic state of the system."
   ]
  },
  {
   "cell_type": "markdown",
   "metadata": {},
   "source": [
    "## Implementation"
   ]
  },
  {
   "cell_type": "markdown",
   "metadata": {},
   "source": [
    "## Your Tasks\n",
    "\n",
    "### 1. Calculate the radial distribution function and compute pressure and energy\n",
    "\n",
    "We learned how to compute the energy and pressure from a simulation.\n",
    "Alternatively, we can compute these properties via the radial distribution:\n",
    "\n",
    "\\begin{align}\n",
    "    E = \\frac{3}{2}N k_B T + 2 \\pi N \\rho \\int_0^\\infty r^2 U(r) g(r) \\mathrm{d}r \n",
    "\\end{align}\n",
    "\n",
    "\\begin{align}\n",
    "    p = \\rho k_B T + \\frac{2}{3}\\rho^2 \\pi\\int_0^\\infty r^2 W(r) g(r)\\mathrm{d}r\n",
    "\\end{align}\n",
    "\n",
    "With the virial\n",
    "\n",
    "\\begin{align}\n",
    "    W(r) = - r \\frac{\\mathrm{d}U(r)}{\\mathrm{d}r}\n",
    "\\end{align}\n",
    "\n",
    "We will use an existing library, **MDAnalysis**, to read a trajectory and from that compute the pair correlation function.\n",
    "\n",
    "**Perform a simulation and compute the pressure and energy from the radial distribution function. Compare the results to the mean values taken from the simulation.**"
   ]
  },
  {
   "cell_type": "code",
   "execution_count": null,
   "metadata": {},
   "outputs": [],
   "source": [
    "simulation_parameters = SimulationParameters(nequilibration=1000, nproduction=10_000)\n",
    "state = State(2000, temperature=0.8, density=0.7)\n",
    "rc = 3.5\n",
    "thermostat = Thermostat.berendsen(state.temperature, simulation_parameters.dt, 1.25)\n",
    "potential = Potential.lennard_jones(1.0, 1.0, rc, True)\n",
    "sim = nvt(state, rc, potential, thermostat, thermostat_frequency=1, simulation_parameters=simulation_parameters)"
   ]
  },
  {
   "cell_type": "code",
   "execution_count": null,
   "metadata": {},
   "outputs": [],
   "source": [
    "# Calculate the RDF\n",
    "# Install MDAnalysis via pip if it's not available on your system.\n",
    "\n",
    "import MDAnalysis as mda\n",
    "from MDAnalysis.analysis.rdf import InterRDF\n",
    "\n",
    "box_length = np.cbrt(state.nparticles / state.density)\n",
    "u = mda.Universe(\"trajectory.xtc\", guess_bonds=False)\n",
    "rdf = InterRDF(u.atoms, u.atoms, nbins=201, range=(1e-15, box_length/2))\n",
    "rdf.run(0, 500);"
   ]
  },
  {
   "cell_type": "code",
   "execution_count": null,
   "metadata": {},
   "outputs": [],
   "source": [
    "# plot g(r) versus r\n",
    "r = rdf.results.bins\n",
    "g = rdf.results.rdf"
   ]
  },
  {
   "cell_type": "code",
   "execution_count": null,
   "metadata": {},
   "outputs": [],
   "source": [
    "# compute the integrals for energy and pressure\n",
    "# use the \"cumulative_trapezoid\" function\n",
    "from scipy.integrate import cumulative_trapezoid"
   ]
  },
  {
   "cell_type": "code",
   "execution_count": null,
   "metadata": {},
   "outputs": [],
   "source": [
    "# energy and pressure via g(r)\n",
    "energy_g = # your energy\n",
    "pressure_g = # your pressure "
   ]
  },
  {
   "cell_type": "code",
   "execution_count": null,
   "metadata": {},
   "outputs": [],
   "source": [
    "# Simulation results and statistical uncertainties\n",
    "from pymbar.timeseries import integratedAutocorrelationTime\n",
    "\n",
    "energy_iat = integratedAutocorrelationTime(sim.total_energy, fast=True)\n",
    "pressure_iat = integratedAutocorrelationTime(sim.pressure, fast=True)\n",
    "iat = max((1, int(2.0 * energy_iat), int(2.0 * pressure_iat)))\n",
    "energy_ci = 1.96 * sim.total_energy[::iat].sem(ddof=1) / state.nparticles\n",
    "pressure_ci = 1.96 * sim.pressure[::iat].sem(ddof=1)\n",
    "\n",
    "energy_simulation = sim.total_energy.mean() / state.nparticles \n",
    "pressure_simulation = state.density * state.temperature + sim.pressure.mean()"
   ]
  },
  {
   "cell_type": "code",
   "execution_count": null,
   "metadata": {},
   "outputs": [],
   "source": [
    "print(f'U / N (simulation) = {energy_simulation:8.4f} ± {energy_ci:.4f}')\n",
    "print(f'U / N (rdf)        = {energy_g:8.4f}')\n",
    "print(f'p     (simulation) = {pressure_simulation:8.4f} ± {pressure_ci:.4f}')\n",
    "print(f'p     (rdf)        = {pressure_g:8.4f}')"
   ]
  },
  {
   "cell_type": "markdown",
   "metadata": {},
   "source": [
    "## Isothermal compressibility for the truncated and shifted (TS) Lennard-Jones fluid\n",
    "\n",
    "In what follows, we will work with the Lennard-Jones potential, truncated and shifted at $r_c = 2.5 \\sigma$.\n",
    "We will calculate the isothermal compressibility, $\\kappa_T$ which defined as\n",
    "\n",
    "\\begin{align}\n",
    "    \\kappa_T = - \\frac{1}{V} \\left( \\frac{\\partial V}{\\partial p} \\right)_{T,N} \n",
    "\\end{align}\n",
    "\n",
    "The partial derivative in this equation can be estimated from multiple $N, V, T$ simulations at different densities.\n",
    "\n",
    "An alternative route to compute this property from a *single* simulation can be achieved using the pair correlation function.\n",
    "\n",
    "\\begin{align}\n",
    "    \\kappa_T =\\frac{1 + \\rho G^\\infty_O}{\\rho k_B T}\n",
    "\\end{align}\n",
    "\n",
    "where $G^\\infty_O$ is the so-called *Kirkwood-Buff integral*, which is defined as\n",
    "\n",
    "\\begin{align}\n",
    "    G^\\infty_O = \\int_0^\\infty [g_O(r) - 1] 4 \\pi r^2 \\mathrm{d}r\n",
    "\\end{align}\n",
    "\n",
    "Here, $g_O(r)$ denotes the pair correlation function in an $\\mu, V, T$ ensemble (\"o\" stands for *open* ensemble, i.e. an ensemble with a fluctuating number of particles).\n",
    "\n",
    "We will approximate $G^\\infty_O$ (see [here](https://pubs.acs.org/doi/pdf/10.1021/jz301992u))\n",
    "\n",
    "1. from a simulation in a closed ensemble\n",
    "2. using a simulation at finite size.\n",
    "\n",
    "\\begin{align}\n",
    "    G^\\infty_O \\approx G^R = \\int_0^{2R} [g(r) -1] w(r, x) \\mathrm{d}r\n",
    "\\end{align}\n",
    "\n",
    "with \n",
    "\n",
    "\\begin{align}\n",
    "    w(r, x) &= 4 \\pi r^2(1 - 3x/2 + x^3/2) \\\\\n",
    "    x &= \\frac{r}{2R}\n",
    "\\end{align}\n",
    "\n",
    "so that\n",
    "\n",
    "\\begin{align}\n",
    "    \\kappa_T \\approx \\frac{1 + \\rho G^R}{\\rho k_B T}\n",
    "\\end{align}\n",
    "\n",
    "$g(r)$ appearing in the above equation is the pari correlation function as obtained from an $N,V,T$ simulation."
   ]
  },
  {
   "cell_type": "markdown",
   "metadata": {},
   "source": [
    "---\n",
    "### 2. Estimate $\\kappa_T$ using the Kirkwood-Buff integral\n",
    "\n",
    "- $\\rho^* = 0.776$\n",
    "- $T^* = 0.9$\n",
    "- $r_c = 2.5$\n",
    "- $N = 4000$\n",
    "- $\\Delta t^* = 0.01$\n",
    "\n",
    "From PeTS (an equation of state): $\\kappa_\\text{T,PeTS}^* = 0.1$"
   ]
  },
  {
   "cell_type": "code",
   "execution_count": null,
   "metadata": {},
   "outputs": [],
   "source": [
    "simulation_parameters = SimulationParameters(dt=0.01, nequilibration=1000, nproduction=50_000)\n",
    "sampling_parameters = SamplingParameters(nsample=10, ntrajectory=100, filename=\"trajectory_4000.xtc\")\n",
    "\n",
    "temperature = 0.9\n",
    "state = State(4000, temperature=temperature, density=0.776)\n",
    "rc = 2.5\n",
    "thermostat = Thermostat.berendsen(temperature, simulation_parameters.dt, 1.25)\n",
    "potential = Potential.lennard_jones(1.0, 1.0, rc, True, shift_at=rc)\n",
    "\n",
    "sim = nvt(state, rc, potential, thermostat, thermostat_frequency=1, simulation_parameters=simulation_parameters, sampling_parameters=sampling_parameters)"
   ]
  },
  {
   "cell_type": "code",
   "execution_count": null,
   "metadata": {},
   "outputs": [],
   "source": [
    "# compute rdf\n",
    "box_length = np.cbrt(state.nparticles / state.density)\n",
    "u = mda.Universe(\"trajectory_4000.xtc\", guess_bonds=False)\n",
    "#rdf = InterRDF(u.atoms, u.atoms, nbins=201, range=(1e-15, rc)) # box_length/2))\n",
    "rdf = InterRDF(u.atoms, u.atoms, nbins=201, range=(1e-15, box_length/2))\n",
    "rdf.run(0, 500);\n",
    "\n",
    "r = rdf.results.bins\n",
    "g = rdf.results.rdf"
   ]
  },
  {
   "cell_type": "code",
   "execution_count": null,
   "metadata": {},
   "outputs": [],
   "source": [
    "# read through the functions gr and gr_tilde\n",
    "# plot gr vs gr_tilde"
   ]
  },
  {
   "cell_type": "code",
   "execution_count": null,
   "metadata": {},
   "outputs": [],
   "source": [
    "# compute kappa\n",
    "kappa_kb = # your impl"
   ]
  },
  {
   "cell_type": "markdown",
   "metadata": {},
   "source": [
    "---\n",
    "### 3. Estimate $\\kappa_T$ from multiple $NVT$ simulations.\n",
    "\n",
    "- Perform simulations to compute the partial derivative $\\left( \\frac{\\partial V}{\\partial p} \\right)_{T,N}$.\n",
    "    - Formulate the above partial derivative in terms of the density.\n",
    "    - Use a [5-point stencil](https://en.wikipedia.org/wiki/Five-point_stencil) to approximate the partial derivative\n",
    "- Compute $\\kappa_T$"
   ]
  },
  {
   "cell_type": "code",
   "execution_count": null,
   "metadata": {},
   "outputs": [],
   "source": [
    "h = 0.05\n",
    "densities = state.density + np.array([-2*h, -h, h, 2*h, 0])\n",
    "dfs = {}\n",
    "\n",
    "# perform a simulation for each density\n",
    "for density in densities:\n",
    "    # you impl\n",
    "    sim_i = nvt()\n",
    "    dfs.update({density: sim_i})"
   ]
  },
  {
   "cell_type": "code",
   "execution_count": null,
   "metadata": {},
   "outputs": [],
   "source": [
    "dp_drho = # your derivative via 5 point stencil\n",
    "kappa_pd = # your impl"
   ]
  }
 ],
 "metadata": {
  "kernelspec": {
   "display_name": "Python 3 (ipykernel)",
   "language": "python",
   "name": "python3"
  },
  "language_info": {
   "codemirror_mode": {
    "name": "ipython",
    "version": 3
   },
   "file_extension": ".py",
   "mimetype": "text/x-python",
   "name": "python",
   "nbconvert_exporter": "python",
   "pygments_lexer": "ipython3",
   "version": "3.9.7"
  }
 },
 "nbformat": 4,
 "nbformat_minor": 4
}
