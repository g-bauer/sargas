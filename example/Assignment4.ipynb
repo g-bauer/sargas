{
 "cells": [
  {
   "cell_type": "code",
   "execution_count": null,
   "metadata": {},
   "outputs": [],
   "source": [
    "import numpy as np\n",
    "import pandas as pd\n",
    "import seaborn as sns\n",
    "from sargas import *\n",
    "import tqdm\n",
    "import matplotlib.pyplot as plt\n",
    "from multiprocessing import Pool\n",
    "import glob\n",
    "import re\n",
    "from collections import namedtuple\n",
    "from scipy.stats import gamma, maxwell, norm\n",
    "\n",
    "import warnings\n",
    "warnings.filterwarnings('ignore')\n",
    "\n",
    "PATTERN = re.compile(\"(\\d+.\\d+)_t_(\\d+.\\d+)_rho.gro\")\n",
    "\n",
    "sns.set_palette(\"Dark2\")\n",
    "sns.set_style(\"ticks\")\n",
    "sns.set_context(\"talk\")"
   ]
  },
  {
   "cell_type": "code",
   "execution_count": null,
   "metadata": {},
   "outputs": [],
   "source": [
    "State = namedtuple(\"State\", [\"nparticles\", \"temperature\", \"density\"])\n",
    "SimulationParameters = namedtuple(\"SimulationParameters\", [\"dt\", \"nequilibration\", \"nproduction\"], defaults=(0.005, 10_000, 100_000))\n",
    "SamplingParameters = namedtuple(\"SamplingParameters\", [\"nsample\", \"ntrajectory\", \"filename\"], defaults=(100, 1_000, \"trajectory.gro\"))\n",
    "\n",
    "def nvt_vv(state, rc, thermostat, thermostat_frequency=None, simulation_parameters=SimulationParameters(), sampling_parameters=SamplingParameters()):\n",
    "    integrator = Integrator.velocity_verlet(simulation_parameters.dt)\n",
    "    return nvt(state, rc, integrator, thermostat, thermostat_frequency, simulation_parameters, sampling_parameters)\n",
    "\n",
    "def nvt_langevin(state, rc, friction_coefficient, simulation_parameters=SimulationParameters(), sampling_parameters=SamplingParameters()):\n",
    "    integrator = Integrator.langevin(simulation_parameters.dt, state.temperature, friction_coefficient)\n",
    "    return nvt(state, rc, integrator, simulation_parameters=simulation_parameters, sampling_parameters=sampling_parameters)\n",
    "\n",
    "def nvt(state, rc, integrator, thermostat=None, thermostat_frequency=None, simulation_parameters=SimulationParameters(), sampling_parameters=SamplingParameters()):\n",
    "    potential = Potential.lennard_jones(1.0, 1.0, rc, True, shift_at=rc)\n",
    "    configuration = Configuration.lattice(state.nparticles, state.density, initial_temperature=state.temperature)\n",
    "    system = System(configuration, potential)\n",
    "    propagator = MolecularDynamics(integrator, thermostat)\n",
    "    simulation = Simulation.molecular_dynamics(system, propagator, thermostat_frequency=thermostat_frequency)\n",
    "\n",
    "    # Equilibration\n",
    "    eq_steps = simulation_parameters.nequilibration // 100\n",
    "    for _ in tqdm.tqdm(range(100), desc=\"Equilibration\"):\n",
    "        simulation.run(eq_steps)\n",
    "    \n",
    "    # Add sampler\n",
    "    props = Sampler.properties(sampling_parameters.nsample)\n",
    "    trj = Sampler.trajectory(sampling_parameters.filename, sampling_parameters.ntrajectory)\n",
    "    simulation.add_sampler(props)\n",
    "    simulation.add_sampler(trj)\n",
    "    # Production\n",
    "    prod_steps = simulation_parameters.nproduction // 100\n",
    "    for _ in tqdm.tqdm(range(100), desc=\"Production   \"):\n",
    "        simulation.run(prod_steps)\n",
    "    \n",
    "    data = pd.DataFrame(props.data)\n",
    "    data[\"time\"] = simulation_parameters.dt * data.index * sampling_parameters.nsample\n",
    "    return data"
   ]
  },
  {
   "cell_type": "markdown",
   "metadata": {},
   "source": [
    "# Assignment 4: Molecular Dynamics in the Canonical Ensemble\n",
    "\n",
    "## Introduction <a id=\"Introduction\"/>\n",
    "\n",
    "In our Monte-Carlo simulations we generated a canonical ensemble - the natural ensemble for Monte-Carlo simulations.\n",
    "For molecular dynamics the natural ensemble is the microcanonical ($NVE$) ensemble.\n",
    "There are generally two ways to generate an $NVT$ ensemble during a MD simulation:\n",
    "\n",
    "1. in addition to the integration method add an algorithm that changes the velocities so that the desired temperature is generated, or\n",
    "2. use an integration method that directly generates an $NVT$ ensemble.\n",
    "\n",
    "In this assignment you will implement a simple algorithm that is used in conjunction with the integration algorithm from the last assignment.\n",
    "This so-called **thermostat** modifies the velocities after each integration step."
   ]
  },
  {
   "cell_type": "markdown",
   "metadata": {},
   "source": [
    "## Compiling \n",
    "**There are no tests in this assignment.**\n",
    "\n",
    "To **compile** the code (*which does not build the python module*), use \n",
    "\n",
    "```\n",
    "RUSTFLAGS=\"-C target-cpu=native\" cargo build --release\n",
    "```\n",
    "\n",
    "To build the **Python module**, type\n",
    "\n",
    "```\n",
    "RUSTFLAGS=\"-C target-cpu=native\" maturin develop --release\n",
    "```\n",
    "\n",
    "If the last step fails stating that \"the resource is currently in use\" (or something similar) make sure to **stop the Jupyter kernel** and try running the command again."
   ]
  },
  {
   "cell_type": "markdown",
   "metadata": {},
   "source": [
    "## Distributions of Velocity, Speed and the Kinetic Energy\n",
    "\n",
    "The components of the velocity (vectorial) of a particle follow a Gaussian distribution with mean of zero and a standard deviation of $\\sigma = \\sqrt{mkT}$. The probability density *of each velocity component* reads\n",
    "\n",
    "\\begin{equation}\n",
    "    \\textbf{Gaussian distribution: }p(v_{\\alpha}) = \\sqrt{\\frac{m\\beta}{2\\pi}} \\exp \\left[-\\frac{1}{2} \\beta m v_{\\alpha}^2\\right], ~ \\alpha \\in [x, y, z]\n",
    "\\end{equation}\n",
    "\n",
    "To get the normalized probability density of the *speed*, i.e. the *length of the velocity vector*, $p(v)$, we can utilize that the integral of a normalized probability density must be unity.\n",
    "Therefore, we can equate the integral of the (yet unknown) probability density with the integral over the known probability density of the velocity.\n",
    "\n",
    "\\begin{align}\n",
    "    \\int_0^\\infty p(v)\\mathrm{d}v &\\overset{!}{=} 1 \\overset{!}{=} \\left(\\frac{\\beta m}{2\\pi} \\right)^{3/2} \\iiint_{-\\infty}^\\infty \\exp \\left[-\\frac{1}{2} \\beta m|\\mathbf{v'}|^2\\right] \\mathrm{d}\\mathbf{v'} \\\\\n",
    "\\end{align}\n",
    "\n",
    "We now can perform a coordinate transformation to spherical coordinates, motivated by the fact that the speed (length of the velocity vector) $|\\mathbf{v}| = v$ is a natural variable in spherical coordinates. \n",
    "\n",
    "\\begin{align}\n",
    "    \\int p(v)\\mathrm{d}v &= \\left(\\frac{\\beta m}{2\\pi} \\right)^{3/2} \\iiint \\exp \\left[-\\frac{1}{2} \\beta mv'^2\\right] v'^2 \\sin{\\theta}\\mathrm{d}\\varphi\\mathrm{d}\\theta\\mathrm{d}v' \\\\\n",
    "    \\int p(v)\\mathrm{d}v &= 4\\pi\\left(\\frac{\\beta m}{2\\pi} \\right)^{3/2} \\int \\exp \\left[-\\frac{1}{2} \\beta mv'^2\\right] v'^2 \\mathrm{d}v'\n",
    "\\end{align}\n",
    "\n",
    "Both integrals now have the same integration variable. We can identify for $p(v)$:\n",
    "\n",
    "\\begin{equation}\n",
    "    \\textbf{Maxwell-Boltzmann distribution: }p(v) = 4\\pi\\left(\\frac{\\beta m}{2\\pi} \\right)^{3/2} v^2 \\exp \\left[-\\frac{1}{2} \\beta mv^2\\right] \n",
    "\\end{equation}\n",
    "\n",
    "The kinetic energy of the system follows a Gamma distribution:\n",
    "\n",
    "\\begin{align}\n",
    "    \\textbf{Gamma distribution: }p(E) = \\Gamma(3N/2, k_BT)\n",
    "\\end{align}"
   ]
  },
  {
   "cell_type": "markdown",
   "metadata": {},
   "source": [
    "## The Andersen Thermostat <a id=\"Simulation-Details\"/>\n",
    "The Andersen thermostat selects a particle and brings it into contact with a *heat bath* which means a new velocity according to a Maxwell-Boltzmann distribution is applied.\n",
    "The probability of a bath collision of a particle in the time intervall $[t, t + \\Delta t]$ (Poisson distribution) is given by:\n",
    "\n",
    "\\begin{equation}\n",
    "    p(t; \\nu) = \\nu e^{-\\nu t}\n",
    "\\end{equation}\n",
    "\n",
    "where $\\nu$ is the *collision frequency*.\n",
    "\n",
    "The algorithm works as follows:\n",
    " \n",
    "1. After the integration step, the thermostat function is called. (already implemented)\n",
    "2. For each particle:\n",
    "    1. Test if the particle undergoes collision with bath. (accept if $X < \\nu \\Delta t^*$, where $X$ is a uniformly distributed random number between 0 and 1) \n",
    "    2. if it does: apply a new velocity vector\n",
    "    3. if it does not: do nothing."
   ]
  },
  {
   "cell_type": "markdown",
   "metadata": {},
   "source": [
    "---\n",
    "## Your Tasks "
   ]
  },
  {
   "cell_type": "markdown",
   "metadata": {},
   "source": [
    "### 1. Implement the Andersen Thermostat.\n",
    "\n",
    "1. In `src/propagator/molecular_dynamics/andersen.rs` implement the algorithm that assigns particles a new random position according to a collision frequency.\n",
    "2. Run simulations for different collision frequencies and plot the temperature versus simulation time.\n",
    "3. Generate three plots:\n",
    "    1. Distribution of **velocity components** from simulation vs Gaussian distribution\n",
    "    2. Distribution of **norm of velocity vectors** from simulation vs Maxwell-Boltzmann distribution\n",
    "    3. Distribution of **kinetic energy** from simulation vs Gamma-Distribution"
   ]
  },
  {
   "cell_type": "code",
   "execution_count": null,
   "metadata": {},
   "outputs": [],
   "source": [
    "nparticles = 256\n",
    "rc = 2.5\n",
    "density = 0.8442\n",
    "dt = 0.005\n",
    "temperature = 2.0\n",
    "collision_frequency =\n",
    "\n",
    "lennard_jones = Potential.lennard_jones(1.0, 1.0, rc, True, shift_at=rc) # truncated & shifted with long-range corrections\n",
    "configuration = Configuration.lattice(nparticles, density, initial_temperature=temperature)\n",
    "system = System(configuration, lennard_jones)\n",
    "\n",
    "# Build the propagator\n",
    "integrator = Integrator.velocity_verlet(dt)\n",
    "thermostat = Thermostat.andersen(temperature, dt, collision_frequency)\n",
    "propagator = MolecularDynamics(integrator, thermostat)\n",
    "\n",
    "# Build the simulation\n",
    "simulation = Simulation.molecular_dynamics(system, propagator, thermostat_frequency=1)\n",
    "\n",
    "# Add Sampler for properties and run simulation...\n",
    "props = Sampler.properties(100)\n",
    "simulation.add_sampler(props)"
   ]
  },
  {
   "cell_type": "code",
   "execution_count": null,
   "metadata": {},
   "outputs": [],
   "source": [
    "# Run your simulations and generate plots to figure out a good value for the collision frequency eta"
   ]
  },
  {
   "cell_type": "code",
   "execution_count": null,
   "metadata": {},
   "outputs": [],
   "source": []
  },
  {
   "cell_type": "code",
   "execution_count": null,
   "metadata": {},
   "outputs": [],
   "source": [
    "# This cell can be used to gather information about the velocity vectors during a simulation.\n",
    "# Use this cell to check the distributions.\n",
    "velocities = []\n",
    "for _ in tqdm.tqdm(range(100)):\n",
    "    simulation.run(1000)\n",
    "    velocities.append(system.velocities)\n",
    "    \n",
    "velocities = np.concatenate(velocities) # contains the velocity components (vx, vy, vz) for 100 snapshots\n",
    "data = pd.DataFrame(props.data)"
   ]
  },
  {
   "cell_type": "markdown",
   "metadata": {},
   "source": [
    "#### Velocity Components: Gaussian Distribution\n",
    "\n",
    "Use `norm.pdf` (already imported) to generate/plot the **p**robability **d**ensity **f**unction for a Gaussian distribution.\n",
    "Read the documentation to figure out what to use for the `scale` parameter."
   ]
  },
  {
   "cell_type": "markdown",
   "metadata": {},
   "source": [
    "#### Speed: Maxwell-Boltzmann Distribution\n",
    "\n",
    "Use `maxwell.pdf` (already imported) to generate/plot the **p**robability **d**ensity **f**unction for a Maxwell-Boltzmann distribution.\n",
    "Read the documentation to figure out what to use for the `scale` parameter."
   ]
  },
  {
   "cell_type": "markdown",
   "metadata": {},
   "source": [
    "#### Kinetic Energy: Gamma Distribution\n",
    "\n",
    "Already implemented for you!"
   ]
  },
  {
   "cell_type": "code",
   "execution_count": null,
   "metadata": {},
   "outputs": [],
   "source": [
    "sns.distplot(data.kinetic_energy.values)\n",
    "xs = np.linspace(0.9*data.kinetic_energy.min(), 1.1*data.kinetic_energy.max(), 100)\n",
    "sns.lineplot(xs, gamma.pdf(xs, a=3/2*nparticles, loc=data.kinetic_energy.mean()/nparticles, scale=temperature))"
   ]
  },
  {
   "cell_type": "markdown",
   "metadata": {},
   "source": [
    "### 2. Ensemble Validation\n",
    "\n",
    "#### Reference\n",
    "\n",
    "> Merz PT, Shirts MR (2018) Testing for physical validity in molecular simulations. PLoS ONE 13(9): e0202764. https://doi.org/10.1371/journal.pone.0202764  \n",
    "> Shirts, \"M. R. Simple Quantitative Tests to Validate Sampling from Thermodynamic Ensembles\", J. Chem. Theory Comput., 2013, 9 (2), pp 909–926, http://dx.doi.org/10.1021/ct300688p\n",
    "\n",
    "#### Theory\n",
    "\n",
    "The probability density in the canonical ensemble reads\n",
    "\n",
    "\\begin{align}\n",
    "    P(\\bar{x} | \\beta) \\propto e^{-\\beta {\\cal H}(\\bar{p}, \\bar{q})} \\,,\n",
    "\\end{align}\n",
    "\n",
    "where $\\bar{x} = (\\bar{p}, \\bar{q}, \\bar{N}, V)$ denotes a microstate.\n",
    "The probability of observing a specific energy $E$ in the canonical ensemble is:\n",
    "\n",
    "\\begin{align}\n",
    "P(E | \\beta) &= \\frac{\\Omega(E)}{Q(\\beta)} e^{-\\beta E} \\,,\n",
    "\\end{align}\n",
    "\n",
    "with the canonical partition function\n",
    "\\begin{align}\n",
    "Q(\\beta) &= \\int \\Omega(E') e^{-\\beta E'} \\mathrm{d}E'\n",
    "\\end{align}\n",
    "\n",
    "For a given $\\bar{N}, V$, the micro canonical partition function is a function of only the energy while the canonical partition function is a function of only the temperature.\n",
    "Consider two simulations at different (inverse) temperatures, $\\beta_1$ and $\\beta_2$, in which we observe common energies, $E$, in both simulations.\n",
    "Since the micro canonical partition function is a function of only the energy, for an energy that is observed in both simulations, the micro canonical probability must be the same for both simulations.\n",
    "\n",
    "Thus, we can write:\n",
    "\n",
    "\\begin{align}\n",
    "P(E | \\beta_1) Q(\\beta_1) e^{\\beta_1 E} = P(E | \\beta_2) Q(\\beta_2) e^{\\beta_2 E}\n",
    "\\end{align}\n",
    "\n",
    "solving for the ratio of probabilities:\n",
    "\n",
    "\\begin{align}\n",
    "\\frac{P(E | \\beta_2)}{P(E | \\beta_1)} &= \\frac{Q(\\beta_1)}{Q(\\beta_2)} \\frac{e^{-\\beta_2 E}}{e^{-\\beta_1 E}} \\,,\n",
    "\\end{align}\n",
    "\n",
    "which we can rewrite, taking the logarithm and using $Q(\\beta) = e^{-\\beta A}$,\n",
    "\n",
    "\\begin{align}\n",
    "\\ln \\left[\\frac{P(E | \\beta_2)}{P(E | \\beta_1)} \\right] &= \\color{blue}{(\\beta_2 A_2 - \\beta_1 A_1)} \\color{red}{-(\\beta_2 - \\beta_1)} E\\,, \\\\\n",
    "&= \\color{blue}{a_0} + \\color{red}{a_1} E\n",
    "\\end{align}\n",
    "\n",
    "The lefthand side of the last equation can be determined from simulations by creating histograms from time series of energies. When plotted versus the energy, the resulting graph has to be a line with slope $a_1$ which is simply the negative difference of the inverse temperatures, which is known."
   ]
  },
  {
   "cell_type": "markdown",
   "metadata": {},
   "source": [
    "#### Perform an Ensemble Validation Check\n",
    "\n",
    "Use the following two states:\n",
    "- $T^*_1 = 1.109$\n",
    "- $T^*_2 = 1.145$\n",
    "\n",
    "Equal for both states:\n",
    "- $\\Delta t^* = 0.01$\n",
    "- $N = 300$\n",
    "- $\\rho^* = 0.2686$\n",
    "- $r_c = 2.5$\n",
    "\n",
    "**Tasks:**\n",
    "- Perform an ensemble validation using your implemented Andersen thermostat.\n",
    "- Use the helper functions (defined at start of this notebook)\n",
    "\n",
    "**Optional:**\n",
    "- Perform an ensemble validation using the Berendsen thermostat. (`tau = 1.25`)"
   ]
  },
  {
   "cell_type": "code",
   "execution_count": null,
   "metadata": {},
   "outputs": [],
   "source": [
    "simulation_parameters = SimulationParameters(#your input here)\n",
    "\n",
    "# set up state 1 using the `State` namedtuple\n",
    "s1 = State(#your input here)\n",
    "s2 = State(#your input here)\n",
    "\n",
    "sim1 = nvt_vv(#your input here)\n",
    "sim2 = nvt_vv(#your input here)"
   ]
  },
  {
   "cell_type": "markdown",
   "metadata": {},
   "source": [
    "Run the following cells and try to understand what happens."
   ]
  },
  {
   "cell_type": "code",
   "execution_count": null,
   "metadata": {},
   "outputs": [],
   "source": [
    "_ = plt.hist(sim1.kinetic_energy, bins=40)\n",
    "_ = plt.hist(sim2.kinetic_energy, bins=40)"
   ]
  },
  {
   "cell_type": "code",
   "execution_count": null,
   "metadata": {},
   "outputs": [],
   "source": [
    "rng = max(sim1.kinetic_energy.min(), sim2.kinetic_energy.min()), min(sim1.kinetic_energy.max(), sim2.kinetic_energy.max())"
   ]
  },
  {
   "cell_type": "code",
   "execution_count": null,
   "metadata": {},
   "outputs": [],
   "source": [
    "bins = 10\n",
    "h1, edges = np.histogram(sim1.kinetic_energy, bins=bins, range=rng)#, normed=True)\n",
    "h2, _ = np.histogram(sim2.kinetic_energy, bins=bins, range=rng)#, normed=True)\n",
    "centers = 0.5*(edges[1:]+ edges[:-1])"
   ]
  },
  {
   "cell_type": "code",
   "execution_count": null,
   "metadata": {},
   "outputs": [],
   "source": [
    "plt.plot(centers, h1)\n",
    "plt.plot(centers, h2)"
   ]
  },
  {
   "cell_type": "code",
   "execution_count": null,
   "metadata": {},
   "outputs": [],
   "source": [
    "var = 1 / h1 - 1 / np.sum(h1) + 1 / h2 - 1 / np.sum(h2)\n",
    "m, b = np.polyfit(centers, np.log(h2 / h1), 1, w=1 / np.sqrt(var))\n",
    "slope = -(1.0 / s2.temperature - 1.0 / s1.temperature)\n",
    "shift = (m - slope) * centers[len(centers) // 2] + b"
   ]
  },
  {
   "cell_type": "code",
   "execution_count": null,
   "metadata": {},
   "outputs": [],
   "source": [
    "plt.figure(figsize=(12, 8))\n",
    "plt.errorbar(centers, np.log(h2 / h1), yerr=np.sqrt(var), fmt='--', label=r'$\\ln\\frac{P_2(E)}{P_1(E)}$')\n",
    "plt.plot(centers, m * centers + b, label='linear fit')\n",
    "plt.plot(centers, slope * centers + shift, label=r'$-(\\beta_2 - \\beta_1)$')\n",
    "plt.xlabel(\"E\")\n",
    "plt.ylabel(r'$\\ln\\frac{P_2(E)}{P_1(E)}$')\n",
    "plt.legend();"
   ]
  }
 ],
 "metadata": {
  "kernelspec": {
   "display_name": "sargas",
   "language": "python",
   "name": "sargas"
  },
  "language_info": {
   "codemirror_mode": {
    "name": "ipython",
    "version": 3
   },
   "file_extension": ".py",
   "mimetype": "text/x-python",
   "name": "python",
   "nbconvert_exporter": "python",
   "pygments_lexer": "ipython3",
   "version": "3.8.1"
  }
 },
 "nbformat": 4,
 "nbformat_minor": 4
}
